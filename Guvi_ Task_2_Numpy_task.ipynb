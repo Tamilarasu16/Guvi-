{
  "cells": [
    {
      "cell_type": "markdown",
      "metadata": {
        "id": "view-in-github",
        "colab_type": "text"
      },
      "source": [
        "<a href=\"https://colab.research.google.com/github/Tamilarasu16/Guvi-/blob/main/Guvi_%20Task_2_Numpy_task.ipynb\" target=\"_parent\"><img src=\"https://colab.research.google.com/assets/colab-badge.svg\" alt=\"Open In Colab\"/></a>"
      ]
    },
    {
      "cell_type": "markdown",
      "metadata": {
        "id": "12i4V3qUnt82"
      },
      "source": [
        "# Numpy\n",
        "\n"
      ]
    },
    {
      "cell_type": "markdown",
      "metadata": {
        "id": "koCETTP-nt85"
      },
      "source": [
        "#### 1. Import the numpy package under the name `np` (★☆☆) \n",
        "(**hint**: import … as …)"
      ]
    },
    {
      "cell_type": "code",
      "execution_count": null,
      "metadata": {
        "collapsed": true,
        "id": "XsJcX3S-nt85"
      },
      "outputs": [],
      "source": [
        "import numpy as np"
      ]
    },
    {
      "cell_type": "markdown",
      "metadata": {
        "id": "PwMaM5Ygnt85"
      },
      "source": [
        "#### 2. Print the numpy version and the configuration (★☆☆) \n",
        "(**hint**: np.\\_\\_version\\_\\_, np.show\\_config)"
      ]
    },
    {
      "cell_type": "code",
      "execution_count": null,
      "metadata": {
        "id": "7CvGwxDUnt86",
        "outputId": "c3c6e5db-4695-418f-c9b1-e1fc835b13ad",
        "colab": {
          "base_uri": "https://localhost:8080/"
        }
      },
      "outputs": [
        {
          "output_type": "stream",
          "name": "stdout",
          "text": [
            "1.21.6\n",
            "blas_mkl_info:\n",
            "  NOT AVAILABLE\n",
            "blis_info:\n",
            "  NOT AVAILABLE\n",
            "openblas_info:\n",
            "    libraries = ['openblas', 'openblas']\n",
            "    library_dirs = ['/usr/local/lib']\n",
            "    language = c\n",
            "    define_macros = [('HAVE_CBLAS', None)]\n",
            "    runtime_library_dirs = ['/usr/local/lib']\n",
            "blas_opt_info:\n",
            "    libraries = ['openblas', 'openblas']\n",
            "    library_dirs = ['/usr/local/lib']\n",
            "    language = c\n",
            "    define_macros = [('HAVE_CBLAS', None)]\n",
            "    runtime_library_dirs = ['/usr/local/lib']\n",
            "lapack_mkl_info:\n",
            "  NOT AVAILABLE\n",
            "openblas_lapack_info:\n",
            "    libraries = ['openblas', 'openblas']\n",
            "    library_dirs = ['/usr/local/lib']\n",
            "    language = c\n",
            "    define_macros = [('HAVE_CBLAS', None)]\n",
            "    runtime_library_dirs = ['/usr/local/lib']\n",
            "lapack_opt_info:\n",
            "    libraries = ['openblas', 'openblas']\n",
            "    library_dirs = ['/usr/local/lib']\n",
            "    language = c\n",
            "    define_macros = [('HAVE_CBLAS', None)]\n",
            "    runtime_library_dirs = ['/usr/local/lib']\n",
            "Supported SIMD extensions in this NumPy install:\n",
            "    baseline = SSE,SSE2,SSE3\n",
            "    found = SSSE3,SSE41,POPCNT,SSE42,AVX,F16C,FMA3,AVX2\n",
            "    not found = AVX512F,AVX512CD,AVX512_KNL,AVX512_KNM,AVX512_SKX,AVX512_CLX,AVX512_CNL,AVX512_ICL\n",
            "None\n"
          ]
        }
      ],
      "source": [
        "print(np.__version__)\n",
        "print(np.show_config())"
      ]
    },
    {
      "cell_type": "markdown",
      "metadata": {
        "id": "17IsycHznt86"
      },
      "source": [
        "#### 3. Create a null vector of size 10 (★☆☆) \n",
        "(**hint**: np.zeros)"
      ]
    },
    {
      "cell_type": "code",
      "execution_count": null,
      "metadata": {
        "id": "UY-6xxxNnt86",
        "outputId": "9f3fe614-d19e-41da-8e7d-49eb56d0edb9",
        "colab": {
          "base_uri": "https://localhost:8080/"
        }
      },
      "outputs": [
        {
          "output_type": "stream",
          "name": "stdout",
          "text": [
            "[0. 0. 0. 0. 0. 0. 0. 0. 0. 0.]\n"
          ]
        }
      ],
      "source": [
        "a = np.zeros(10)\n",
        "print(a)"
      ]
    },
    {
      "cell_type": "markdown",
      "metadata": {
        "id": "1Zc3ykNmnt87"
      },
      "source": [
        "#### 4.  How to find the memory size of any array (★☆☆) \n",
        "(**hint**: size, itemsize)"
      ]
    },
    {
      "cell_type": "code",
      "execution_count": null,
      "metadata": {
        "id": "TJzTgI0Wnt87",
        "colab": {
          "base_uri": "https://localhost:8080/"
        },
        "outputId": "d5d32f09-c195-44a4-ac48-14c9b6333762"
      },
      "outputs": [
        {
          "output_type": "stream",
          "name": "stdout",
          "text": [
            "Size of an array:  7\n",
            "Memory size of one array:  8\n",
            "Memory size of numpy array:  56\n"
          ]
        }
      ],
      "source": [
        "a = np.array([1,2,3,4,5,6,7])\n",
        "print('Size of an array: ',a.size)\n",
        "print('Memory size of one array: ',a.itemsize)\n",
        "print('Memory size of numpy array: ',a.size*a.itemsize)"
      ]
    },
    {
      "cell_type": "markdown",
      "metadata": {
        "id": "bC9pdvtEnt87"
      },
      "source": [
        "#### 5.  How to get the documentation of the numpy add function from the command line? (★☆☆) \n",
        "(**hint**: np.info)"
      ]
    },
    {
      "cell_type": "code",
      "execution_count": null,
      "metadata": {
        "collapsed": true,
        "id": "YBps6gl6nt88",
        "colab": {
          "base_uri": "https://localhost:8080/",
          "height": 35
        },
        "outputId": "5889feef-2eb3-493f-83f5-f29b18b165f9"
      },
      "outputs": [
        {
          "output_type": "execute_result",
          "data": {
            "text/plain": [
              "'import numpy:numpy.info(numpy.add)'"
            ],
            "application/vnd.google.colaboratory.intrinsic+json": {
              "type": "string"
            }
          },
          "metadata": {},
          "execution_count": 8
        }
      ],
      "source": [
        " 'import numpy:numpy.info(numpy.add)'"
      ]
    },
    {
      "cell_type": "markdown",
      "metadata": {
        "id": "oX0jF8qqnt88"
      },
      "source": [
        "#### 6.  Create a null vector of size 10 but the fifth value which is 1 (★☆☆) \n",
        "(**hint**: array\\[4\\])"
      ]
    },
    {
      "cell_type": "code",
      "execution_count": null,
      "metadata": {
        "id": "KaZS4wVhnt88",
        "colab": {
          "base_uri": "https://localhost:8080/"
        },
        "outputId": "b6fdd19f-2e3d-48a0-ab2d-9bcf4af95437"
      },
      "outputs": [
        {
          "output_type": "stream",
          "name": "stdout",
          "text": [
            "[0. 0. 0. 0. 1. 0. 0. 0. 0. 0.]\n"
          ]
        }
      ],
      "source": [
        "arr = np.zeros(10)\n",
        "\n",
        "arr[4] = 1\n",
        "print(arr)"
      ]
    },
    {
      "cell_type": "markdown",
      "metadata": {
        "id": "3B8FYCJrnt88"
      },
      "source": [
        "#### 7.  Create a vector with values ranging from 10 to 49 (★☆☆) \n",
        "(**hint**: np.arange)"
      ]
    },
    {
      "cell_type": "code",
      "execution_count": null,
      "metadata": {
        "id": "WO5kFsy4nt89",
        "colab": {
          "base_uri": "https://localhost:8080/"
        },
        "outputId": "e72c4df8-8f79-4207-9e48-4df42e216207"
      },
      "outputs": [
        {
          "output_type": "stream",
          "name": "stdout",
          "text": [
            "[10 11 12 13 14 15 16 17 18 19 20 21 22 23 24 25 26 27 28 29 30 31 32 33\n",
            " 34 35 36 37 38 39 40 41 42 43 44 45 46 47 48 49]\n"
          ]
        }
      ],
      "source": [
        "a = np.arange(10,50)\n",
        "print(a)"
      ]
    },
    {
      "cell_type": "markdown",
      "metadata": {
        "id": "KOuR6Dignt89"
      },
      "source": [
        "#### 8.  Reverse a vector (first element becomes last) (★☆☆) \n",
        "(**hint**: array\\[::-1\\])"
      ]
    },
    {
      "cell_type": "code",
      "execution_count": null,
      "metadata": {
        "id": "lcU6uR8Ont89",
        "colab": {
          "base_uri": "https://localhost:8080/"
        },
        "outputId": "3bea16a0-41c1-4e20-ed36-80278b2c3f22"
      },
      "outputs": [
        {
          "output_type": "stream",
          "name": "stdout",
          "text": [
            "[25 24 23 22 21 20 19 18 17 16 15 14 13 12 11 10  9  8  7  6  5  4  3  2\n",
            "  1]\n"
          ]
        }
      ],
      "source": [
        "x = np.arange(1,26)\n",
        "y = x[::-1]\n",
        "print(y)"
      ]
    },
    {
      "cell_type": "markdown",
      "metadata": {
        "id": "ugw0VE_Wnt89"
      },
      "source": [
        "#### 9.  Create a 3x3 matrix with values ranging from 0 to 8 (★☆☆) \n",
        "(**hint**: reshape)"
      ]
    },
    {
      "cell_type": "code",
      "execution_count": null,
      "metadata": {
        "id": "INKxt1WCnt89",
        "colab": {
          "base_uri": "https://localhost:8080/"
        },
        "outputId": "24b4ec3a-61b6-4706-9f43-0fddaa721a79"
      },
      "outputs": [
        {
          "output_type": "stream",
          "name": "stdout",
          "text": [
            "[[0 1 2]\n",
            " [3 4 5]\n",
            " [6 7 8]]\n"
          ]
        }
      ],
      "source": [
        "a = np.arange(0,9).reshape(3,3)\n",
        "print(a)"
      ]
    },
    {
      "cell_type": "markdown",
      "metadata": {
        "id": "jlm6IMkqnt8-"
      },
      "source": [
        "#### 10. Find indices of non-zero elements from \\[1,2,0,0,4,0\\] (★☆☆) \n",
        "(**hint**: np.nonzero)"
      ]
    },
    {
      "cell_type": "code",
      "execution_count": null,
      "metadata": {
        "id": "JgeyW_NBnt8-",
        "colab": {
          "base_uri": "https://localhost:8080/"
        },
        "outputId": "23fb9b49-8738-4d04-f066-2a2fba604324"
      },
      "outputs": [
        {
          "output_type": "stream",
          "name": "stdout",
          "text": [
            "(array([0, 1, 4]),)\n"
          ]
        }
      ],
      "source": [
        "a = np.array([1,2,0,0,4,0])\n",
        "b = np.nonzero(a)\n",
        "print(b)"
      ]
    },
    {
      "cell_type": "markdown",
      "metadata": {
        "id": "ViZ4LGjdnt8-"
      },
      "source": [
        "#### 11. Create a 3x3 identity matrix (★☆☆) \n",
        "(**hint**: np.eye)"
      ]
    },
    {
      "cell_type": "code",
      "execution_count": null,
      "metadata": {
        "id": "PowiQuqknt8-",
        "colab": {
          "base_uri": "https://localhost:8080/"
        },
        "outputId": "9175ee65-9ff0-4e6c-c432-f023064cded6"
      },
      "outputs": [
        {
          "output_type": "stream",
          "name": "stdout",
          "text": [
            "[[1. 0. 0.]\n",
            " [0. 1. 0.]\n",
            " [0. 0. 1.]]\n"
          ]
        }
      ],
      "source": [
        "a = np.eye(3)\n",
        "print(a)"
      ]
    },
    {
      "cell_type": "markdown",
      "metadata": {
        "id": "jiPR8joInt8-"
      },
      "source": [
        "#### 12. Create a 3x3x3 array with random values (★☆☆) \n",
        "(**hint**: np.random.random)"
      ]
    },
    {
      "cell_type": "code",
      "execution_count": null,
      "metadata": {
        "collapsed": true,
        "id": "EBJP4OVKnt8-",
        "colab": {
          "base_uri": "https://localhost:8080/"
        },
        "outputId": "b5dac4c5-d8d4-4b2a-c7e2-b3da7eff3fea"
      },
      "outputs": [
        {
          "output_type": "stream",
          "name": "stdout",
          "text": [
            "[[[5.66299007e-01 5.92826220e-02 5.47141482e-01]\n",
            "  [8.81488862e-01 7.74637100e-01 4.13468942e-01]\n",
            "  [5.41488654e-01 7.88469533e-01 8.31914358e-01]]\n",
            "\n",
            " [[6.74670319e-01 6.67438178e-01 6.17414336e-01]\n",
            "  [4.10031341e-01 6.05166606e-01 7.16868049e-02]\n",
            "  [2.62726142e-01 4.86967786e-04 8.94425246e-01]]\n",
            "\n",
            " [[3.89669821e-01 7.34914408e-01 7.24277223e-01]\n",
            "  [6.53867442e-01 5.96964748e-02 3.14137023e-01]\n",
            "  [7.60098158e-01 2.81564505e-01 1.83957707e-01]]]\n"
          ]
        }
      ],
      "source": [
        "a = np.random.random((3,3,3))\n",
        "print(a)"
      ]
    },
    {
      "cell_type": "markdown",
      "metadata": {
        "id": "3hjER3e3nt8_"
      },
      "source": [
        "#### 13. Create a 10x10 array with random values and find the minimum and maximum values (★☆☆) \n",
        "(**hint**: min, max)"
      ]
    },
    {
      "cell_type": "code",
      "execution_count": null,
      "metadata": {
        "id": "sZxsXNVSnt8_",
        "colab": {
          "base_uri": "https://localhost:8080/"
        },
        "outputId": "986e5431-6b6f-42e6-9290-1efe9dff289a"
      },
      "outputs": [
        {
          "output_type": "stream",
          "name": "stdout",
          "text": [
            "Min value:  0.026639667080776364\n",
            "Max value:  0.9924661413037206\n"
          ]
        }
      ],
      "source": [
        "a = np.random.random((10,10))\n",
        "x = a.min()\n",
        "y = a.max()\n",
        "print('Min value: ',x)\n",
        "print('Max value: ',y)"
      ]
    },
    {
      "cell_type": "markdown",
      "metadata": {
        "id": "SKmn37r3nt8_"
      },
      "source": [
        "#### 14. Create a random vector of size 30 and find the mean value (★☆☆) \n",
        "(**hint**: mean)"
      ]
    },
    {
      "cell_type": "code",
      "execution_count": null,
      "metadata": {
        "id": "qvOjcALqnt8_",
        "colab": {
          "base_uri": "https://localhost:8080/"
        },
        "outputId": "2c2e1a1c-86e0-47ab-aef3-5344bbb56747"
      },
      "outputs": [
        {
          "output_type": "stream",
          "name": "stdout",
          "text": [
            "Mean value: 0.4422031668018057\n"
          ]
        }
      ],
      "source": [
        "a = np.random.random(30)\n",
        "x = a.mean()\n",
        "print('Mean value:',x)"
      ]
    },
    {
      "cell_type": "markdown",
      "metadata": {
        "id": "01dhs-Iwnt8_"
      },
      "source": [
        "#### 15. Create a 2d array with 1 on the border and 0 inside (★☆☆) \n",
        "(**hint**: array\\[1:-1, 1:-1\\])"
      ]
    },
    {
      "cell_type": "code",
      "execution_count": null,
      "metadata": {
        "id": "pS3mibaCnt8_",
        "colab": {
          "base_uri": "https://localhost:8080/"
        },
        "outputId": "386c1712-6cfa-49d1-cd1c-fa513d6f11d5"
      },
      "outputs": [
        {
          "output_type": "stream",
          "name": "stdout",
          "text": [
            "[[1 1 1 1 1]\n",
            " [1 0 0 0 1]\n",
            " [1 0 0 0 1]\n",
            " [1 0 0 0 1]\n",
            " [1 1 1 1 1]]\n"
          ]
        }
      ],
      "source": [
        "a = np.ones((5,5),dtype=int)\n",
        "a[1:-1,1:-1] = 0\n",
        "print(a)\n"
      ]
    },
    {
      "cell_type": "markdown",
      "metadata": {
        "id": "osqr6nLGnt8_"
      },
      "source": [
        "#### 16. How to add a border (filled with 0's) around an existing array? (★☆☆) \n",
        "(**hint**: np.pad)"
      ]
    },
    {
      "cell_type": "code",
      "execution_count": null,
      "metadata": {
        "id": "HDns7h_vnt8_",
        "colab": {
          "base_uri": "https://localhost:8080/"
        },
        "outputId": "d9c092ea-2913-417c-8edc-bd3a0d6d6244"
      },
      "outputs": [
        {
          "output_type": "stream",
          "name": "stdout",
          "text": [
            "[[0 0 0 0 0 0 0]\n",
            " [0 1 1 1 1 1 0]\n",
            " [0 1 1 1 1 1 0]\n",
            " [0 1 1 1 1 1 0]\n",
            " [0 1 1 1 1 1 0]\n",
            " [0 1 1 1 1 1 0]\n",
            " [0 0 0 0 0 0 0]]\n"
          ]
        }
      ],
      "source": [
        "a = np.ones((5,5),dtype=int)\n",
        "x = np.pad(a,pad_width=1, mode='constant', constant_values=0)\n",
        "print(x)\n"
      ]
    },
    {
      "cell_type": "markdown",
      "metadata": {
        "id": "WPsRb_FJnt8_"
      },
      "source": [
        "#### 17. What is the result of the following expression? (★☆☆) \n",
        "(**hint**: NaN = not a number, inf = infinity)"
      ]
    },
    {
      "cell_type": "markdown",
      "metadata": {
        "id": "7F4v19nlnt9A"
      },
      "source": [
        "```python\n",
        "0 * np.nan\n",
        "np.nan == np.nan\n",
        "np.inf > np.nan\n",
        "np.nan - np.nan\n",
        "0.3 == 3 * 0.1\n",
        "```"
      ]
    },
    {
      "cell_type": "code",
      "execution_count": null,
      "metadata": {
        "id": "Oqbl_Efunt9A",
        "colab": {
          "base_uri": "https://localhost:8080/"
        },
        "outputId": "b8f0ae5c-2c13-4beb-c145-81245cb02f70"
      },
      "outputs": [
        {
          "output_type": "stream",
          "name": "stdout",
          "text": [
            "nan\n",
            "False\n",
            "False\n",
            "nan\n",
            "False\n"
          ]
        }
      ],
      "source": [
        "print(0 * np.nan)\n",
        "print(np.nan == np.nan)\n",
        "print(np.inf > np.nan)\n",
        "print(np.nan - np.nan)\n",
        "print(0.3 == 3 * 0.1)"
      ]
    },
    {
      "cell_type": "markdown",
      "metadata": {
        "id": "HpVDYcbtnt9A"
      },
      "source": [
        "#### 18. Create a 5x5 matrix with values 1,2,3,4 just below the diagonal (★☆☆) \n",
        "(**hint**: np.diag)"
      ]
    },
    {
      "cell_type": "code",
      "execution_count": null,
      "metadata": {
        "id": "ExuJC_UUnt9A",
        "colab": {
          "base_uri": "https://localhost:8080/"
        },
        "outputId": "efd74e60-6c8e-44d7-f681-9f0966ebb1aa"
      },
      "outputs": [
        {
          "output_type": "stream",
          "name": "stdout",
          "text": [
            "[[0 0 0 0 0]\n",
            " [1 0 0 0 0]\n",
            " [0 2 0 0 0]\n",
            " [0 0 3 0 0]\n",
            " [0 0 0 4 0]]\n"
          ]
        }
      ],
      "source": [
        "a = np.diag(1+np.arange(4),k = -1)\n",
        "print(a)"
      ]
    },
    {
      "cell_type": "markdown",
      "metadata": {
        "id": "Dc0t0MMjnt9A"
      },
      "source": [
        "#### 19. Create a 8x8 matrix and fill it with a checkerboard pattern (★☆☆) \n",
        "(**hint**: array\\[::2\\])"
      ]
    },
    {
      "cell_type": "code",
      "execution_count": null,
      "metadata": {
        "id": "hQQ_Y9L7nt9A",
        "colab": {
          "base_uri": "https://localhost:8080/"
        },
        "outputId": "fa1beae7-3670-4788-d7df-605e12cd4eab"
      },
      "outputs": [
        {
          "output_type": "stream",
          "name": "stdout",
          "text": [
            "[[0 1 0 1 0 1 0 1]\n",
            " [1 0 1 0 1 0 1 0]\n",
            " [0 1 0 1 0 1 0 1]\n",
            " [1 0 1 0 1 0 1 0]\n",
            " [0 1 0 1 0 1 0 1]\n",
            " [1 0 1 0 1 0 1 0]\n",
            " [0 1 0 1 0 1 0 1]\n",
            " [1 0 1 0 1 0 1 0]]\n"
          ]
        }
      ],
      "source": [
        "a = np.zeros((8,8),dtype = int)\n",
        "a[1::2,::2]=1\n",
        "a[::2,1::2]=1\n",
        "print(a)"
      ]
    },
    {
      "cell_type": "markdown",
      "metadata": {
        "id": "5s1eEz7nnt9A"
      },
      "source": [
        "#### 20. Consider a (6,7,8) shape array, what is the index (x,y,z) of the 100th element? \n",
        "(**hint**: np.unravel_index)"
      ]
    },
    {
      "cell_type": "code",
      "execution_count": null,
      "metadata": {
        "id": "JXoWV7rSnt9B",
        "colab": {
          "base_uri": "https://localhost:8080/"
        },
        "outputId": "89800ce9-8ba9-48cb-c968-0ec6a72a3e9c"
      },
      "outputs": [
        {
          "output_type": "stream",
          "name": "stdout",
          "text": [
            "(1, 5, 4)\n"
          ]
        }
      ],
      "source": [
        "a = (np.unravel_index(100,(6,7,8)))\n",
        "print(a)"
      ]
    },
    {
      "cell_type": "markdown",
      "metadata": {
        "id": "MA1bU3lCnt9B"
      },
      "source": [
        "#### 21. Create a checkerboard 8x8 matrix using the tile function (★☆☆) \n",
        "(**hint**: np.tile)"
      ]
    },
    {
      "cell_type": "code",
      "execution_count": null,
      "metadata": {
        "id": "vDBKU5atnt9B",
        "colab": {
          "base_uri": "https://localhost:8080/"
        },
        "outputId": "d8de5a60-9084-4c3e-d035-2783692e2c4b"
      },
      "outputs": [
        {
          "output_type": "stream",
          "name": "stdout",
          "text": [
            "[[0 1 0 1 0 1 0 1]\n",
            " [1 0 1 0 1 0 1 0]\n",
            " [0 1 0 1 0 1 0 1]\n",
            " [1 0 1 0 1 0 1 0]\n",
            " [0 1 0 1 0 1 0 1]\n",
            " [1 0 1 0 1 0 1 0]\n",
            " [0 1 0 1 0 1 0 1]\n",
            " [1 0 1 0 1 0 1 0]]\n"
          ]
        }
      ],
      "source": [
        "a = np.array([[0,1],[1,0]])\n",
        "x = np.tile(a,(4,4))\n",
        "print(x)"
      ]
    },
    {
      "cell_type": "markdown",
      "metadata": {
        "id": "fWzf4j5Cnt9B"
      },
      "source": [
        "#### 22. Normalize a 5x5 random matrix (★☆☆) \n",
        "(**hint**: (x - min) / (max - min))"
      ]
    },
    {
      "cell_type": "code",
      "execution_count": null,
      "metadata": {
        "id": "z26aXclynt9B",
        "colab": {
          "base_uri": "https://localhost:8080/"
        },
        "outputId": "04b28f2b-8058-45b9-a50c-3bc2adb05355"
      },
      "outputs": [
        {
          "output_type": "stream",
          "name": "stdout",
          "text": [
            "[[0.87844103 0.24115207 0.36063872 0.22914602 0.28037198]\n",
            " [0.73992217 0.7207654  0.66668014 0.03855736 0.63045664]\n",
            " [0.10011094 0.0613122  1.         0.18150723 0.01353831]\n",
            " [0.06387191 0.7312116  0.06142832 0.91100612 0.98707407]\n",
            " [0.50109139 0.64460372 0.14748954 0.09904328 0.        ]]\n"
          ]
        }
      ],
      "source": [
        "A = np.random.random((5,5))\n",
        "Amax, Amin = A.max(), A.min()\n",
        "x= (A-Amin)/(Amax-Amin)\n",
        "print (x)"
      ]
    },
    {
      "cell_type": "markdown",
      "metadata": {
        "id": "vURWuvrYnt9B"
      },
      "source": [
        "#### 23. Create a custom dtype that describes a color as four unsigned bytes (RGBA) (★☆☆) \n",
        "(**hint**: np.dtype)"
      ]
    },
    {
      "cell_type": "code",
      "execution_count": null,
      "metadata": {
        "collapsed": true,
        "id": "GFuBuViDnt9B",
        "colab": {
          "base_uri": "https://localhost:8080/"
        },
        "outputId": "1a53166c-05cf-4b53-a174-35b8364d3c7a"
      },
      "outputs": [
        {
          "output_type": "stream",
          "name": "stderr",
          "text": [
            "<ipython-input-26-abea1ad71070>:1: FutureWarning: Passing (type, 1) or '1type' as a synonym of type is deprecated; in a future version of numpy, it will be understood as (type, (1,)) / '(1,)type'.\n",
            "  colour = np.dtype([(\"r\", np.ubyte, 1),\n"
          ]
        }
      ],
      "source": [
        "colour = np.dtype([(\"r\", np.ubyte, 1),\n",
        "                  (\"g\", np.ubyte, 1),\n",
        "                  (\"b\", np.ubyte, 1),\n",
        "                  (\"a\", np.ubyte, 1)])"
      ]
    },
    {
      "cell_type": "markdown",
      "metadata": {
        "id": "ZmNhTffLnt9B"
      },
      "source": [
        "#### 24. Multiply a 5x3 matrix by a 3x2 matrix (real matrix product) (★☆☆) \n",
        "(**hint**: np.dot | @)"
      ]
    },
    {
      "cell_type": "code",
      "execution_count": null,
      "metadata": {
        "id": "GXTPoyYJnt9B",
        "colab": {
          "base_uri": "https://localhost:8080/"
        },
        "outputId": "ac67b106-9903-4604-95cb-4e1ff8c60e2c"
      },
      "outputs": [
        {
          "output_type": "stream",
          "name": "stdout",
          "text": [
            "[[3. 3.]\n",
            " [3. 3.]\n",
            " [3. 3.]\n",
            " [3. 3.]\n",
            " [3. 3.]]\n"
          ]
        }
      ],
      "source": [
        "a= np.dot(np.ones((5,3)), np.ones((3,2)))\n",
        "print (a)"
      ]
    },
    {
      "cell_type": "markdown",
      "metadata": {
        "id": "bPeBvCvDnt9B"
      },
      "source": [
        "#### 25. Given a 1D array, negate all elements which are between 3 and 8, in place. (★☆☆) \n",
        "(**hint**: >, <=)"
      ]
    },
    {
      "cell_type": "code",
      "execution_count": null,
      "metadata": {
        "id": "vK2WP9gDnt9B",
        "colab": {
          "base_uri": "https://localhost:8080/"
        },
        "outputId": "a6038153-b9e2-4cff-812e-e6d62687fa1e"
      },
      "outputs": [
        {
          "output_type": "stream",
          "name": "stdout",
          "text": [
            "[ 0  1  2  3 -4 -5 -6 -7 -8  9 10 11 12 13 14 15 16 17 18 19 20]\n"
          ]
        }
      ],
      "source": [
        "\n",
        "a = np.arange(21)\n",
        "a[(3 < a) & (a <= 8)] *= -1\n",
        "print(a)"
      ]
    },
    {
      "cell_type": "markdown",
      "metadata": {
        "id": "63larEFMnt9B"
      },
      "source": [
        "#### 26. What is the output of the following script? (★☆☆) \n",
        "(**hint**: np.sum)"
      ]
    },
    {
      "cell_type": "markdown",
      "metadata": {
        "id": "4prxVpWBnt9B"
      },
      "source": [
        "```python\n",
        "# Author: Jake VanderPlas\n",
        "\n",
        "print(sum(range(5),-1))\n",
        "from numpy import *\n",
        "print(sum(range(5),-1))\n",
        "```"
      ]
    },
    {
      "cell_type": "code",
      "execution_count": null,
      "metadata": {
        "id": "uqL6EPDynt9B",
        "colab": {
          "base_uri": "https://localhost:8080/"
        },
        "outputId": "5fbc057b-3ede-4d7e-fbdd-1358486ec6f1"
      },
      "outputs": [
        {
          "output_type": "stream",
          "name": "stdout",
          "text": [
            "9\n",
            "10\n"
          ]
        }
      ],
      "source": [
        "print(sum(range(5),-1))\n",
        "from numpy import *\n",
        "print(sum(range(5),-1))"
      ]
    },
    {
      "cell_type": "markdown",
      "metadata": {
        "id": "XpdKQzEznt9B"
      },
      "source": [
        "#### 27. Consider an integer vector Z, which of these expressions are legal? (★☆☆)"
      ]
    },
    {
      "cell_type": "markdown",
      "metadata": {
        "id": "LFIiOi46nt9C"
      },
      "source": [
        "```python\n",
        "Z**Z\n",
        "2 << Z >> 2\n",
        "Z <- Z\n",
        "1j*Z\n",
        "Z/1/1\n",
        "Z<Z>Z\n",
        "```"
      ]
    },
    {
      "cell_type": "code",
      "execution_count": null,
      "metadata": {
        "id": "eayOF7Jvnt9C",
        "colab": {
          "base_uri": "https://localhost:8080/"
        },
        "outputId": "4a84cb3a-2970-4d77-ba7b-7ad0b86ebd1f"
      },
      "outputs": [
        {
          "output_type": "stream",
          "name": "stdout",
          "text": [
            "4\n",
            "2\n",
            "False\n",
            "2j\n",
            "2.0\n",
            "False\n"
          ]
        }
      ],
      "source": [
        "Z = np.array(2)\n",
        "print(Z**Z)\n",
        "print(2 << Z >> 2)\n",
        "print(Z <- Z)\n",
        "print(1j*Z)\n",
        "print(Z/1/1)\n",
        "print(Z<Z>Z)"
      ]
    },
    {
      "cell_type": "markdown",
      "metadata": {
        "id": "wGnICSFont9C"
      },
      "source": [
        "#### 28. What are the result of the following expressions?"
      ]
    },
    {
      "cell_type": "markdown",
      "metadata": {
        "id": "ZvVaLX2Ont9C"
      },
      "source": [
        "```python\n",
        "np.array(0) / np.array(0)\n",
        "np.array(0) // np.array(0)\n",
        "np.array([np.nan]).astype(int).astype(float)\n",
        "```"
      ]
    },
    {
      "cell_type": "code",
      "execution_count": null,
      "metadata": {
        "id": "9vd9REnQnt9C",
        "colab": {
          "base_uri": "https://localhost:8080/"
        },
        "outputId": "6eebb40a-9649-4715-d905-895bf9ffb913"
      },
      "outputs": [
        {
          "output_type": "stream",
          "name": "stdout",
          "text": [
            "nan\n",
            "0\n",
            "[-9.22337204e+18]\n"
          ]
        },
        {
          "output_type": "stream",
          "name": "stderr",
          "text": [
            "<ipython-input-31-2a10de0ee61b>:1: RuntimeWarning: invalid value encountered in true_divide\n",
            "  print(np.array(0) / np.array(0))\n",
            "<ipython-input-31-2a10de0ee61b>:2: RuntimeWarning: divide by zero encountered in floor_divide\n",
            "  print(np.array(0) // np.array(0))\n"
          ]
        }
      ],
      "source": [
        "print(np.array(0) / np.array(0))\n",
        "print(np.array(0) // np.array(0))\n",
        "print(np.array([np.nan]).astype(int).astype(float))"
      ]
    },
    {
      "cell_type": "markdown",
      "metadata": {
        "id": "lihwyA_ant9C"
      },
      "source": [
        "#### 29. How to round away from zero a float array ? (★☆☆) \n",
        "(**hint**: np.uniform, np.copysign, np.ceil, np.abs)"
      ]
    },
    {
      "cell_type": "code",
      "execution_count": null,
      "metadata": {
        "id": "rcRzkKICnt9C",
        "colab": {
          "base_uri": "https://localhost:8080/"
        },
        "outputId": "dc49f755-592c-4fd2-c4e6-40df1c0c272d"
      },
      "outputs": [
        {
          "output_type": "stream",
          "name": "stdout",
          "text": [
            "[ -9.  -3.   6.   4.  -1.   8.   3. -15.  10. -12. -14. -14. -10.   8.\n",
            "  -1.]\n"
          ]
        }
      ],
      "source": [
        "A = np.random.uniform(-15,+15,15)\n",
        "print (np.copysign(np.ceil(np.abs(A)), A))"
      ]
    },
    {
      "cell_type": "markdown",
      "metadata": {
        "id": "k0x6vGUPnt9C"
      },
      "source": [
        "#### 30. How to find common values between two arrays? (★☆☆) \n",
        "(**hint**: np.intersect1d)"
      ]
    },
    {
      "cell_type": "code",
      "execution_count": null,
      "metadata": {
        "id": "xzcZScR2nt9C",
        "colab": {
          "base_uri": "https://localhost:8080/"
        },
        "outputId": "74a8a897-7db1-41a6-f29a-e7cb271c6c2e"
      },
      "outputs": [
        {
          "output_type": "stream",
          "name": "stdout",
          "text": [
            "[ 1  2  4  7 11 12]\n"
          ]
        }
      ],
      "source": [
        "A1 = np.random.randint(0,15,15)\n",
        "A2 = np.random.randint(0,15,15)\n",
        "print(np.intersect1d(A1,A2))"
      ]
    },
    {
      "cell_type": "markdown",
      "metadata": {
        "id": "NdGAJJ2ynt9C"
      },
      "source": [
        "#### 31. How to ignore all numpy warnings (not recommended)? (★☆☆) \n",
        "(**hint**: np.seterr, np.errstate)"
      ]
    },
    {
      "cell_type": "code",
      "execution_count": null,
      "metadata": {
        "id": "u0qWdINfnt9C",
        "colab": {
          "base_uri": "https://localhost:8080/"
        },
        "outputId": "d63d2e28-5387-42aa-cd9e-eee4df16d2c2"
      },
      "outputs": [
        {
          "output_type": "stream",
          "name": "stdout",
          "text": [
            "(array([0, 1, 4]),)\n"
          ]
        }
      ],
      "source": [
        "\n",
        "defaults = np.seterr(all=\"ignore\")\n",
        "A = np.ones(1) / 0\n",
        "\n",
        "B = np.seterr(**defaults)\n",
        "\n",
        "nz = np.nonzero([1,2,0,0,4,0])\n",
        "print(nz)"
      ]
    },
    {
      "cell_type": "markdown",
      "metadata": {
        "id": "gtBMBIbJnt9C"
      },
      "source": [
        "#### 32. Is the following expressions true? (★☆☆) \n",
        "(**hint**: imaginary number)"
      ]
    },
    {
      "cell_type": "markdown",
      "metadata": {
        "id": "LT5_CF0Snt9C"
      },
      "source": [
        "```python\n",
        "np.sqrt(-1) == np.emath.sqrt(-1)\n",
        "```"
      ]
    },
    {
      "cell_type": "code",
      "execution_count": null,
      "metadata": {
        "id": "EWV6QsOgnt9C",
        "colab": {
          "base_uri": "https://localhost:8080/"
        },
        "outputId": "0c457d72-6e7e-4247-b218-ee8651bee6eb"
      },
      "outputs": [
        {
          "output_type": "stream",
          "name": "stdout",
          "text": [
            "False\n"
          ]
        },
        {
          "output_type": "stream",
          "name": "stderr",
          "text": [
            "<ipython-input-35-c6ff0ad7fd7b>:1: RuntimeWarning: invalid value encountered in sqrt\n",
            "  print(np.sqrt(-1) == np.emath.sqrt(-1))\n"
          ]
        }
      ],
      "source": [
        "print(np.sqrt(-1) == np.emath.sqrt(-1))"
      ]
    },
    {
      "cell_type": "markdown",
      "metadata": {
        "id": "_RZXdZuDnt9C"
      },
      "source": [
        "#### 33. How to get the dates of yesterday, today and tomorrow? (★☆☆) \n",
        "(**hint**: np.datetime64, np.timedelta64)"
      ]
    },
    {
      "cell_type": "code",
      "execution_count": null,
      "metadata": {
        "collapsed": true,
        "id": "pT1hRaU4nt9C",
        "colab": {
          "base_uri": "https://localhost:8080/"
        },
        "outputId": "0e36f438-7dad-4fed-a3eb-249b0a8770f8"
      },
      "outputs": [
        {
          "output_type": "stream",
          "name": "stdout",
          "text": [
            "2023-01-02\n",
            "2023-01-03\n",
            "2023-01-04\n"
          ]
        }
      ],
      "source": [
        "yesterday = np.datetime64('today', 'D') - np.timedelta64(1, 'D')\n",
        "today     = np.datetime64('today', 'D')\n",
        "tomorrow  = np.datetime64('today', 'D') + np.timedelta64(1, 'D')\n",
        "\n",
        "print(yesterday)\n",
        "print(today)\n",
        "print(tomorrow)"
      ]
    },
    {
      "cell_type": "markdown",
      "metadata": {
        "id": "j1Z-AG8cnt9C"
      },
      "source": [
        "#### 34. How to get all the dates corresponding to the month of July 2016? (★★☆) \n",
        "(**hint**: np.arange(dtype=datetime64\\['D'\\]))"
      ]
    },
    {
      "cell_type": "code",
      "execution_count": null,
      "metadata": {
        "id": "0P1k_sUjnt9C",
        "colab": {
          "base_uri": "https://localhost:8080/"
        },
        "outputId": "fb09be02-31e5-458a-cfce-0b1fb33fa6b8"
      },
      "outputs": [
        {
          "output_type": "stream",
          "name": "stdout",
          "text": [
            "['2016-07-01' '2016-07-02' '2016-07-03' '2016-07-04' '2016-07-05'\n",
            " '2016-07-06' '2016-07-07' '2016-07-08' '2016-07-09' '2016-07-10'\n",
            " '2016-07-11' '2016-07-12' '2016-07-13' '2016-07-14' '2016-07-15'\n",
            " '2016-07-16' '2016-07-17' '2016-07-18' '2016-07-19' '2016-07-20'\n",
            " '2016-07-21' '2016-07-22' '2016-07-23' '2016-07-24' '2016-07-25'\n",
            " '2016-07-26' '2016-07-27' '2016-07-28' '2016-07-29' '2016-07-30'\n",
            " '2016-07-31']\n"
          ]
        }
      ],
      "source": [
        "A = np.arange('2016-07', '2016-08', dtype='datetime64[D]')\n",
        "print(A)"
      ]
    },
    {
      "cell_type": "markdown",
      "metadata": {
        "id": "9MJ3YxGEnt9D"
      },
      "source": [
        "#### 35. How to compute ((A+B)\\*(-A/2)) in place (without copy)? (★★☆) \n",
        "(**hint**: np.add(out=), np.negative(out=), np.multiply(out=), np.divide(out=))"
      ]
    },
    {
      "cell_type": "code",
      "execution_count": null,
      "metadata": {
        "id": "TRcFOfSznt9D",
        "colab": {
          "base_uri": "https://localhost:8080/"
        },
        "outputId": "9afc28ca-04e5-4c7e-ed6f-38b8bb890c58"
      },
      "outputs": [
        {
          "output_type": "execute_result",
          "data": {
            "text/plain": [
              "array([-1.5, -1.5, -1.5])"
            ]
          },
          "metadata": {},
          "execution_count": 38
        }
      ],
      "source": [
        "a = np.ones(3)*1\n",
        "b = np.ones(3)*2\n",
        "c = np.ones(3)*3\n",
        "np.add(a,b,out=b)\n",
        "np.divide(a,2,out=a)\n",
        "np.negative(a,out=a)\n",
        "np.multiply(a,b,out=a)"
      ]
    },
    {
      "cell_type": "markdown",
      "metadata": {
        "id": "FzGIEo2dnt9D"
      },
      "source": [
        "#### 36. Extract the integer part of a random array using 5 different methods (★★☆) \n",
        "(**hint**: %, np.floor, np.ceil, astype, np.trunc)"
      ]
    },
    {
      "cell_type": "code",
      "execution_count": null,
      "metadata": {
        "id": "HtrrRd6Gnt9D",
        "colab": {
          "base_uri": "https://localhost:8080/"
        },
        "outputId": "10418e47-6db6-4364-ce3e-2d4cc8d10a31"
      },
      "outputs": [
        {
          "output_type": "stream",
          "name": "stdout",
          "text": [
            "[ 8. 13.  4.  8.  9. 14.  1. 14. 12.  2.  6.  9.  3.  4.  3.]\n",
            "[ 8. 13.  4.  8.  9. 14.  1. 14. 12.  2.  6.  9.  3.  4.  3.]\n",
            "[ 8. 13.  4.  8.  9. 14.  1. 14. 12.  2.  6.  9.  3.  4.  3.]\n",
            "[ 8 13  4  8  9 14  1 14 12  2  6  9  3  4  3]\n",
            "[ 8. 13.  4.  8.  9. 14.  1. 14. 12.  2.  6.  9.  3.  4.  3.]\n"
          ]
        }
      ],
      "source": [
        "A = np.random.uniform(0,15,15)\n",
        "print (A - A%1)\n",
        "print (np.floor(A))\n",
        "print (np.ceil(A)-1)\n",
        "print (A.astype(int))\n",
        "print (np.trunc(A))"
      ]
    },
    {
      "cell_type": "markdown",
      "metadata": {
        "id": "YJphm6UUnt9D"
      },
      "source": [
        "#### 37. Create a 5x5 matrix with row values ranging from 0 to 4 (★★☆) \n",
        "(**hint**: np.arange)"
      ]
    },
    {
      "cell_type": "code",
      "execution_count": null,
      "metadata": {
        "id": "i90CH4xnnt9D",
        "colab": {
          "base_uri": "https://localhost:8080/"
        },
        "outputId": "815bd603-6ee1-450a-bc71-7e82f75d3eed"
      },
      "outputs": [
        {
          "output_type": "stream",
          "name": "stdout",
          "text": [
            "[[0. 1. 2. 3. 4.]\n",
            " [0. 1. 2. 3. 4.]\n",
            " [0. 1. 2. 3. 4.]\n",
            " [0. 1. 2. 3. 4.]\n",
            " [0. 1. 2. 3. 4.]]\n"
          ]
        }
      ],
      "source": [
        "a = np.zeros((5,5))\n",
        "a += np.arange(5)\n",
        "print(a)"
      ]
    },
    {
      "cell_type": "markdown",
      "metadata": {
        "id": "xqCH1GOcnt9D"
      },
      "source": [
        "#### 38. Consider a generator function that generates 10 integers and use it to build an array (★☆☆) \n",
        "(**hint**: np.fromiter)"
      ]
    },
    {
      "cell_type": "code",
      "execution_count": null,
      "metadata": {
        "id": "Iv9nIxtent9D",
        "colab": {
          "base_uri": "https://localhost:8080/"
        },
        "outputId": "8ae88501-6c8e-4d23-d585-fbeddb2573f4"
      },
      "outputs": [
        {
          "output_type": "stream",
          "name": "stdout",
          "text": [
            "[0. 1. 2. 3. 4. 5. 6. 7. 8. 9.]\n"
          ]
        }
      ],
      "source": [
        "def generate():\n",
        "    for x in range(10):\n",
        "        yield x\n",
        "a = np.fromiter(generate(),dtype=float,count=-1)\n",
        "print(a)"
      ]
    },
    {
      "cell_type": "markdown",
      "metadata": {
        "id": "2IGONe7ant9D"
      },
      "source": [
        "#### 39. Create a vector of size 10 with values ranging from 0 to 1, both excluded (★★☆) \n",
        "(**hint**: np.linspace)"
      ]
    },
    {
      "cell_type": "code",
      "execution_count": null,
      "metadata": {
        "id": "Ql65AFPYnt9D",
        "colab": {
          "base_uri": "https://localhost:8080/"
        },
        "outputId": "63b13baa-e41c-4841-ea38-c032d72b8008"
      },
      "outputs": [
        {
          "output_type": "stream",
          "name": "stdout",
          "text": [
            "[0.09090909 0.18181818 0.27272727 0.36363636 0.45454545 0.54545455\n",
            " 0.63636364 0.72727273 0.81818182 0.90909091]\n"
          ]
        }
      ],
      "source": [
        "x = np.linspace(0,1,11,endpoint=False)[1:]\n",
        "print(x)"
      ]
    },
    {
      "cell_type": "markdown",
      "metadata": {
        "id": "6FYf1Lssnt9D"
      },
      "source": [
        "#### 40. Create a random vector of size 10 and sort it (★★☆) \n",
        "(**hint**: sort)"
      ]
    },
    {
      "cell_type": "code",
      "execution_count": null,
      "metadata": {
        "id": "bTge4JRlnt9D",
        "colab": {
          "base_uri": "https://localhost:8080/"
        },
        "outputId": "d36fbf7b-ab6c-4686-d308-48a8ce8b5d10"
      },
      "outputs": [
        {
          "output_type": "stream",
          "name": "stdout",
          "text": [
            "[0.07176369 0.07696078 0.15168857 0.25572714 0.46075246 0.51816134\n",
            " 0.68109024 0.81967702 0.94726341 0.9591657 ]\n"
          ]
        }
      ],
      "source": [
        "a = np.random.random(10)\n",
        "a.sort()\n",
        "print(a)"
      ]
    },
    {
      "cell_type": "markdown",
      "metadata": {
        "id": "_usBeEm_nt9D"
      },
      "source": [
        "#### 41. How to sum a small array faster than np.sum? (★★☆) \n",
        "(**hint**: np.add.reduce)"
      ]
    },
    {
      "cell_type": "code",
      "execution_count": null,
      "metadata": {
        "id": "w7Wwpm9-nt9D",
        "colab": {
          "base_uri": "https://localhost:8080/"
        },
        "outputId": "4e077d60-bf9a-4b1c-f8a5-ebc7c110d119"
      },
      "outputs": [
        {
          "output_type": "execute_result",
          "data": {
            "text/plain": [
              "105"
            ]
          },
          "metadata": {},
          "execution_count": 44
        }
      ],
      "source": [
        "a = np.arange(15)\n",
        "\n",
        "np.add.reduce(a)"
      ]
    },
    {
      "cell_type": "markdown",
      "metadata": {
        "id": "7SsKKQn2nt9D"
      },
      "source": [
        "#### 42. Consider two random array A and B, check if they are equal (★★☆) \n",
        "(**hint**: np.allclose, np.array\\_equal)"
      ]
    },
    {
      "cell_type": "code",
      "execution_count": null,
      "metadata": {
        "id": "3skcMm5ant9D",
        "colab": {
          "base_uri": "https://localhost:8080/"
        },
        "outputId": "2eae3261-e2a8-450c-d81c-aca9036dbe0b"
      },
      "outputs": [
        {
          "output_type": "stream",
          "name": "stdout",
          "text": [
            "False\n",
            "False\n"
          ]
        }
      ],
      "source": [
        "x = np.random.randint(0,4,8)\n",
        "y = np.random.randint(0,4,8)\n",
        "\n",
        "equal = np.allclose(x,y)\n",
        "print(equal)\n",
        "\n",
        "equal = np.array_equal(x,y)\n",
        "print(equal)"
      ]
    },
    {
      "cell_type": "markdown",
      "metadata": {
        "id": "aSpSxzlZnt9D"
      },
      "source": [
        "#### 43. Make an array immutable (read-only) (★★☆) \n",
        "(**hint**: flags.writeable)"
      ]
    },
    {
      "cell_type": "code",
      "execution_count": null,
      "metadata": {
        "id": "aorCrZIXnt9D",
        "colab": {
          "base_uri": "https://localhost:8080/",
          "height": 206
        },
        "outputId": "6b83bbb8-19ef-4c5c-9c43-82c751267fe8"
      },
      "outputs": [
        {
          "output_type": "error",
          "ename": "ValueError",
          "evalue": "ignored",
          "traceback": [
            "\u001b[0;31m---------------------------------------------------------------------------\u001b[0m",
            "\u001b[0;31mValueError\u001b[0m                                Traceback (most recent call last)",
            "\u001b[0;32m<ipython-input-47-d9fceed8deaf>\u001b[0m in \u001b[0;36m<module>\u001b[0;34m\u001b[0m\n\u001b[1;32m      2\u001b[0m \u001b[0ma\u001b[0m\u001b[0;34m[\u001b[0m\u001b[0;36m1\u001b[0m\u001b[0;34m]\u001b[0m \u001b[0;34m=\u001b[0m \u001b[0;36m2\u001b[0m\u001b[0;34m\u001b[0m\u001b[0;34m\u001b[0m\u001b[0m\n\u001b[1;32m      3\u001b[0m \u001b[0ma\u001b[0m\u001b[0;34m.\u001b[0m\u001b[0msetflags\u001b[0m\u001b[0;34m(\u001b[0m\u001b[0mwrite\u001b[0m\u001b[0;34m=\u001b[0m\u001b[0;32mFalse\u001b[0m\u001b[0;34m)\u001b[0m\u001b[0;34m\u001b[0m\u001b[0;34m\u001b[0m\u001b[0m\n\u001b[0;32m----> 4\u001b[0;31m \u001b[0ma\u001b[0m\u001b[0;34m[\u001b[0m\u001b[0;36m1\u001b[0m\u001b[0;34m]\u001b[0m \u001b[0;34m=\u001b[0m \u001b[0;36m7\u001b[0m\u001b[0;34m\u001b[0m\u001b[0;34m\u001b[0m\u001b[0m\n\u001b[0m",
            "\u001b[0;31mValueError\u001b[0m: assignment destination is read-only"
          ]
        }
      ],
      "source": [
        "\n",
        "a = np.zeros(11)\n",
        "a[1] = 2\n",
        "a.setflags(write=False)\n",
        "a[1] = 7\n"
      ]
    },
    {
      "cell_type": "markdown",
      "metadata": {
        "id": "bl9IWjUCnt9D"
      },
      "source": [
        "#### 44. Consider a random 10x2 matrix representing cartesian coordinates, convert them to polar coordinates (★★☆) \n",
        "(**hint**: np.sqrt, np.arctan2)"
      ]
    },
    {
      "cell_type": "code",
      "execution_count": null,
      "metadata": {
        "id": "DDsGohhant9E",
        "colab": {
          "base_uri": "https://localhost:8080/"
        },
        "outputId": "705b4544-b372-468f-ff8c-c355771fbcc0"
      },
      "outputs": [
        {
          "output_type": "stream",
          "name": "stdout",
          "text": [
            "[1.22761838 0.64015903 1.24862795 0.46078305 1.15290809 0.9124686\n",
            " 0.33332871 0.66114478 0.56034698 0.70977745]\n",
            "[0.83315241 0.92719576 0.85637009 1.18342514 0.89483228 1.20907029\n",
            " 0.11304109 1.39355885 0.0153313  0.06681487]\n"
          ]
        }
      ],
      "source": [
        "Z = np.random.random((10,2))\n",
        "X,Y = Z[:,0], Z[:,1]\n",
        "R = np.sqrt(X**2+Y**2)\n",
        "T = np.arctan2(Y,X)\n",
        "print(R)\n",
        "print(T)"
      ]
    },
    {
      "cell_type": "markdown",
      "metadata": {
        "id": "f6c0t-CKnt9E"
      },
      "source": [
        "#### 45. Create random vector of size 10 and replace the maximum value by 0 (★★☆) \n",
        "(**hint**: argmax)"
      ]
    },
    {
      "cell_type": "code",
      "execution_count": null,
      "metadata": {
        "id": "wI9Z7tE3nt9E",
        "colab": {
          "base_uri": "https://localhost:8080/"
        },
        "outputId": "b77a4bf8-e00b-4172-f735-4894119e64c4"
      },
      "outputs": [
        {
          "output_type": "stream",
          "name": "stdout",
          "text": [
            "[0.79147294 0.         0.70573097 0.86448292 0.69996603 0.75047971\n",
            " 0.52548929 0.53083237 0.03897413 0.23429774]\n"
          ]
        }
      ],
      "source": [
        "a = np.random.random(10)\n",
        "a[a.argmax()] = 0\n",
        "print(a)\n"
      ]
    },
    {
      "cell_type": "markdown",
      "metadata": {
        "id": "8EPrVfDxnt9E"
      },
      "source": [
        "#### 46. Create a structured array with `x` and `y` coordinates covering the \\[0,1\\]x\\[0,1\\] area (★★☆) \n",
        "(**hint**: np.meshgrid)"
      ]
    },
    {
      "cell_type": "code",
      "execution_count": null,
      "metadata": {
        "id": "cmnUUyM2nt9E",
        "colab": {
          "base_uri": "https://localhost:8080/"
        },
        "outputId": "7720ee5a-8ec4-44fb-dedb-8a2d9ec20c42"
      },
      "outputs": [
        {
          "output_type": "stream",
          "name": "stdout",
          "text": [
            "[[(0.  , 0.  ) (0.25, 0.  ) (0.5 , 0.  ) (0.75, 0.  ) (1.  , 0.  )]\n",
            " [(0.  , 0.25) (0.25, 0.25) (0.5 , 0.25) (0.75, 0.25) (1.  , 0.25)]\n",
            " [(0.  , 0.5 ) (0.25, 0.5 ) (0.5 , 0.5 ) (0.75, 0.5 ) (1.  , 0.5 )]\n",
            " [(0.  , 0.75) (0.25, 0.75) (0.5 , 0.75) (0.75, 0.75) (1.  , 0.75)]\n",
            " [(0.  , 1.  ) (0.25, 1.  ) (0.5 , 1.  ) (0.75, 1.  ) (1.  , 1.  )]]\n"
          ]
        }
      ],
      "source": [
        "a = np.zeros((5,5), [('x',float),('y',float)])\n",
        "a['x'], a['y'] = np.meshgrid(np.linspace(0,1,5),\n",
        "                             np.linspace(0,1,5))\n",
        "print(a)"
      ]
    },
    {
      "cell_type": "markdown",
      "metadata": {
        "id": "8yDsX9Sznt9E"
      },
      "source": [
        "####  47. Given two arrays, X and Y, construct the Cauchy matrix C (Cij =1/(xi - yj)) \n",
        "(**hint**: np.subtract.outer)"
      ]
    },
    {
      "cell_type": "code",
      "execution_count": null,
      "metadata": {
        "id": "LbB6IRKTnt9E",
        "colab": {
          "base_uri": "https://localhost:8080/"
        },
        "outputId": "317f557d-d3b1-43ae-de6d-6797afbffa03"
      },
      "outputs": [
        {
          "output_type": "stream",
          "name": "stdout",
          "text": [
            "3638.163637117973\n"
          ]
        }
      ],
      "source": [
        "a = np.arange(8)\n",
        "b = a + 0.5\n",
        "c = 1.0 / np.subtract.outer(a, b)\n",
        "print(np.linalg.det(c))"
      ]
    },
    {
      "cell_type": "markdown",
      "metadata": {
        "id": "SfJIWP5Rnt9E"
      },
      "source": [
        "#### 48. Print the minimum and maximum representable value for each numpy scalar type (★★☆) \n",
        "(**hint**: np.iinfo, np.finfo, eps)"
      ]
    },
    {
      "cell_type": "code",
      "execution_count": null,
      "metadata": {
        "id": "5bbS5Un_nt9E",
        "colab": {
          "base_uri": "https://localhost:8080/"
        },
        "outputId": "b84bf1b2-c5ea-4790-980b-0dd214950436"
      },
      "outputs": [
        {
          "output_type": "stream",
          "name": "stdout",
          "text": [
            "-128\n",
            "127\n",
            "-2147483648\n",
            "2147483647\n",
            "-9223372036854775808\n",
            "9223372036854775807\n",
            "-3.4028235e+38\n",
            "3.4028235e+38\n",
            "1.1920929e-07\n",
            "-1.7976931348623157e+308\n",
            "1.7976931348623157e+308\n",
            "2.220446049250313e-16\n"
          ]
        }
      ],
      "source": [
        "for dtype in [np.int8, np.int32, np.int64]:\n",
        "   print(np.iinfo(dtype).min)\n",
        "   print(np.iinfo(dtype).max)\n",
        "for dtype in [np.float32, np.float64]:\n",
        "   print(np.finfo(dtype).min)\n",
        "   print(np.finfo(dtype).max)\n",
        "   print(np.finfo(dtype).eps)"
      ]
    },
    {
      "cell_type": "markdown",
      "metadata": {
        "id": "LjIr_T0Jnt9E"
      },
      "source": [
        "#### 49. How to print all the values of an array? (★★☆) \n",
        "(**hint**: np.set\\_printoptions)"
      ]
    },
    {
      "cell_type": "code",
      "execution_count": null,
      "metadata": {
        "id": "9RamyJYRnt9E",
        "colab": {
          "base_uri": "https://localhost:8080/",
          "height": 374
        },
        "outputId": "ddcbf5c4-4823-44a6-9093-5e0975f482b3"
      },
      "outputs": [
        {
          "output_type": "error",
          "ename": "ValueError",
          "evalue": "ignored",
          "traceback": [
            "\u001b[0;31m---------------------------------------------------------------------------\u001b[0m",
            "\u001b[0;31mValueError\u001b[0m                                Traceback (most recent call last)",
            "\u001b[0;32m<ipython-input-53-d5ad5a8daac8>\u001b[0m in \u001b[0;36m<module>\u001b[0;34m\u001b[0m\n\u001b[0;32m----> 1\u001b[0;31m \u001b[0mnp\u001b[0m\u001b[0;34m.\u001b[0m\u001b[0mset_printoptions\u001b[0m\u001b[0;34m(\u001b[0m\u001b[0mthreshold\u001b[0m\u001b[0;34m=\u001b[0m\u001b[0mnp\u001b[0m\u001b[0;34m.\u001b[0m\u001b[0mnan\u001b[0m\u001b[0;34m)\u001b[0m\u001b[0;34m\u001b[0m\u001b[0;34m\u001b[0m\u001b[0m\n\u001b[0m\u001b[1;32m      2\u001b[0m \u001b[0mx\u001b[0m \u001b[0;34m=\u001b[0m \u001b[0mnp\u001b[0m\u001b[0;34m.\u001b[0m\u001b[0mzeros\u001b[0m\u001b[0;34m(\u001b[0m\u001b[0;34m(\u001b[0m\u001b[0;36m4\u001b[0m\u001b[0;34m,\u001b[0m \u001b[0;36m4\u001b[0m\u001b[0;34m)\u001b[0m\u001b[0;34m)\u001b[0m\u001b[0;34m\u001b[0m\u001b[0;34m\u001b[0m\u001b[0m\n\u001b[1;32m      3\u001b[0m \u001b[0mprint\u001b[0m\u001b[0;34m(\u001b[0m\u001b[0mx\u001b[0m\u001b[0;34m)\u001b[0m\u001b[0;34m\u001b[0m\u001b[0;34m\u001b[0m\u001b[0m\n",
            "\u001b[0;32m/usr/local/lib/python3.8/dist-packages/numpy/core/arrayprint.py\u001b[0m in \u001b[0;36mset_printoptions\u001b[0;34m(precision, threshold, edgeitems, linewidth, suppress, nanstr, infstr, formatter, sign, floatmode, legacy)\u001b[0m\n\u001b[1;32m    250\u001b[0m \u001b[0;34m\u001b[0m\u001b[0m\n\u001b[1;32m    251\u001b[0m     \"\"\"\n\u001b[0;32m--> 252\u001b[0;31m     opt = _make_options_dict(precision, threshold, edgeitems, linewidth,\n\u001b[0m\u001b[1;32m    253\u001b[0m                              \u001b[0msuppress\u001b[0m\u001b[0;34m,\u001b[0m \u001b[0mnanstr\u001b[0m\u001b[0;34m,\u001b[0m \u001b[0minfstr\u001b[0m\u001b[0;34m,\u001b[0m \u001b[0msign\u001b[0m\u001b[0;34m,\u001b[0m \u001b[0mformatter\u001b[0m\u001b[0;34m,\u001b[0m\u001b[0;34m\u001b[0m\u001b[0;34m\u001b[0m\u001b[0m\n\u001b[1;32m    254\u001b[0m                              floatmode, legacy)\n",
            "\u001b[0;32m/usr/local/lib/python3.8/dist-packages/numpy/core/arrayprint.py\u001b[0m in \u001b[0;36m_make_options_dict\u001b[0;34m(precision, threshold, edgeitems, linewidth, suppress, nanstr, infstr, sign, formatter, floatmode, legacy)\u001b[0m\n\u001b[1;32m     86\u001b[0m             \u001b[0;32mraise\u001b[0m \u001b[0mTypeError\u001b[0m\u001b[0;34m(\u001b[0m\u001b[0;34m\"threshold must be numeric\"\u001b[0m\u001b[0;34m)\u001b[0m\u001b[0;34m\u001b[0m\u001b[0;34m\u001b[0m\u001b[0m\n\u001b[1;32m     87\u001b[0m         \u001b[0;32mif\u001b[0m \u001b[0mnp\u001b[0m\u001b[0;34m.\u001b[0m\u001b[0misnan\u001b[0m\u001b[0;34m(\u001b[0m\u001b[0mthreshold\u001b[0m\u001b[0;34m)\u001b[0m\u001b[0;34m:\u001b[0m\u001b[0;34m\u001b[0m\u001b[0;34m\u001b[0m\u001b[0m\n\u001b[0;32m---> 88\u001b[0;31m             raise ValueError(\"threshold must be non-NAN, try \"\n\u001b[0m\u001b[1;32m     89\u001b[0m                              \"sys.maxsize for untruncated representation\")\n\u001b[1;32m     90\u001b[0m \u001b[0;34m\u001b[0m\u001b[0m\n",
            "\u001b[0;31mValueError\u001b[0m: threshold must be non-NAN, try sys.maxsize for untruncated representation"
          ]
        }
      ],
      "source": [
        "np.set_printoptions(threshold=np.nan)\n",
        "x = np.zeros((4, 4))\n",
        "print(x)"
      ]
    },
    {
      "cell_type": "markdown",
      "metadata": {
        "id": "W2MNS1ZAnt9E"
      },
      "source": [
        "#### 50. How to find the closest value (to a given scalar) in a vector? (★★☆) \n",
        "(**hint**: argmin)"
      ]
    },
    {
      "cell_type": "code",
      "execution_count": null,
      "metadata": {
        "id": "XCbU_CG-nt9E",
        "colab": {
          "base_uri": "https://localhost:8080/"
        },
        "outputId": "7464d970-2dbd-4b1e-be69-ed434a67fe89"
      },
      "outputs": [
        {
          "output_type": "stream",
          "name": "stdout",
          "text": [
            "46\n"
          ]
        }
      ],
      "source": [
        "a = np.arange(70)\n",
        "b = np.random.uniform(0,70)\n",
        "index = (np.abs(a-b)).argmin()\n",
        "print(a[index])"
      ]
    },
    {
      "cell_type": "markdown",
      "metadata": {
        "id": "1tNpMZLZnt9E"
      },
      "source": [
        "#### 51. Create a structured array representing a position (x,y) and a color (r,g,b) (★★☆) \n",
        "(**hint**: dtype)"
      ]
    },
    {
      "cell_type": "code",
      "execution_count": null,
      "metadata": {
        "id": "rUjhnbM7nt9E",
        "colab": {
          "base_uri": "https://localhost:8080/"
        },
        "outputId": "c0165b9e-e6c7-46c5-a29b-608b5b746259"
      },
      "outputs": [
        {
          "output_type": "stream",
          "name": "stdout",
          "text": [
            "[((0., 0.), (0., 0., 0.)) ((0., 0.), (0., 0., 0.))\n",
            " ((0., 0.), (0., 0., 0.)) ((0., 0.), (0., 0., 0.))\n",
            " ((0., 0.), (0., 0., 0.)) ((0., 0.), (0., 0., 0.))\n",
            " ((0., 0.), (0., 0., 0.)) ((0., 0.), (0., 0., 0.))\n",
            " ((0., 0.), (0., 0., 0.)) ((0., 0.), (0., 0., 0.))]\n"
          ]
        },
        {
          "output_type": "stream",
          "name": "stderr",
          "text": [
            "<ipython-input-55-1c50e4e32ac3>:1: FutureWarning: Passing (type, 1) or '1type' as a synonym of type is deprecated; in a future version of numpy, it will be understood as (type, (1,)) / '(1,)type'.\n",
            "  a = np.zeros(10, [ ('position', [ ('x', float, 1),\n"
          ]
        }
      ],
      "source": [
        "a = np.zeros(10, [ ('position', [ ('x', float, 1),\n",
        "                                  ('y', float, 1)]),\n",
        "                   ('color',    [ ('r', float, 1),\n",
        "                                  ('g', float, 1),\n",
        "                                  ('b', float, 1)])])\n",
        "print(a)"
      ]
    },
    {
      "cell_type": "markdown",
      "metadata": {
        "id": "1nWsq1DPnt9E"
      },
      "source": [
        "#### 52. Consider a random vector with shape (100,2) representing coordinates, find point by point distances (★★☆) \n",
        "(**hint**: np.atleast\\_2d, T, np.sqrt)"
      ]
    },
    {
      "cell_type": "markdown",
      "source": [],
      "metadata": {
        "id": "DT_uA3w2B6I4"
      }
    },
    {
      "cell_type": "code",
      "execution_count": null,
      "metadata": {
        "id": "DrvH8czLnt9F",
        "colab": {
          "base_uri": "https://localhost:8080/"
        },
        "outputId": "599d375f-7a15-4e5c-a074-fd3a52ead87d"
      },
      "outputs": [
        {
          "output_type": "stream",
          "name": "stdout",
          "text": [
            "[[0.         0.21276791 0.54903183 0.70651868 0.40742369 0.78547709\n",
            "  0.59378761 0.31671595 0.59684705 0.42404959]\n",
            " [0.21276791 0.         0.55696538 0.51560884 0.53306447 0.58037798\n",
            "  0.47511663 0.31775113 0.49106287 0.39498849]\n",
            " [0.54903183 0.55696538 0.         0.63260045 0.30964753 0.76979325\n",
            "  0.336373   0.84136842 0.30171142 0.16888573]\n",
            " [0.70651868 0.51560884 0.63260045 0.         0.83249266 0.13975603\n",
            "  0.30196499 0.78803149 0.34070694 0.50824443]\n",
            " [0.40742369 0.53306447 0.30964753 0.83249266 0.         0.95512088\n",
            "  0.57943608 0.72330934 0.55599052 0.33434715]\n",
            " [0.78547709 0.58037798 0.76979325 0.13975603 0.95512088 0.\n",
            "  0.44148575 0.81499692 0.48035248 0.63868566]\n",
            " [0.59378761 0.47511663 0.336373   0.30196499 0.57943608 0.44148575\n",
            "  0.         0.7924175  0.03943588 0.24593829]\n",
            " [0.31671595 0.31775113 0.84136842 0.78803149 0.72330934 0.81499692\n",
            "  0.7924175  0.         0.80881063 0.69300146]\n",
            " [0.59684705 0.49106287 0.30171142 0.34070694 0.55599052 0.48035248\n",
            "  0.03943588 0.80881063 0.         0.22598364]\n",
            " [0.42404959 0.39498849 0.16888573 0.50824443 0.33434715 0.63868566\n",
            "  0.24593829 0.69300146 0.22598364 0.        ]]\n"
          ]
        }
      ],
      "source": [
        "Z = np.random.random((10,2))\n",
        "X,Y = np.atleast_2d(Z[:,0], Z[:,1])\n",
        "D = np.sqrt( (X-X.T)**2 + (Y-Y.T)**2)\n",
        "print(D)"
      ]
    },
    {
      "cell_type": "markdown",
      "metadata": {
        "id": "lPkkEeuVnt9F"
      },
      "source": [
        "#### 53. How to convert a float (32 bits) array into an integer (32 bits) in place? \n",
        "(**hint**: astype(copy=False))"
      ]
    },
    {
      "cell_type": "code",
      "execution_count": null,
      "metadata": {
        "id": "ufyySe8Mnt9F",
        "colab": {
          "base_uri": "https://localhost:8080/"
        },
        "outputId": "370c5d21-a2cb-4da3-85a1-0f13335e6802"
      },
      "outputs": [
        {
          "output_type": "stream",
          "name": "stdout",
          "text": [
            "[68 77 53 44 82 61  8 88 78 95]\n"
          ]
        }
      ],
      "source": [
        "a = (np.random.rand(10)*100).astype(np.float32)\n",
        "b = a.view(np.int32)\n",
        "b[:] = a\n",
        "print(b)"
      ]
    },
    {
      "cell_type": "markdown",
      "metadata": {
        "id": "UyoPwcROnt9F"
      },
      "source": [
        "#### 54. How to read the following file? (★★☆) \n",
        "(**hint**: np.genfromtxt)"
      ]
    },
    {
      "cell_type": "markdown",
      "metadata": {
        "id": "mV0zBjDdnt9F"
      },
      "source": [
        "```\n",
        "1, 2, 3, 4, 5\n",
        "6,  ,  , 7, 8\n",
        " ,  , 9,10,11\n",
        "```"
      ]
    },
    {
      "cell_type": "code",
      "execution_count": null,
      "metadata": {
        "id": "d33MI8yynt9F",
        "colab": {
          "base_uri": "https://localhost:8080/"
        },
        "outputId": "14cb98e5-6f97-4128-d77d-60612d636912"
      },
      "outputs": [
        {
          "output_type": "stream",
          "name": "stdout",
          "text": [
            "[[ 1  2  3  4  5]\n",
            " [ 6 -1 -1  7  8]\n",
            " [-1 -1  9 10 11]]\n"
          ]
        },
        {
          "output_type": "stream",
          "name": "stderr",
          "text": [
            "<ipython-input-59-76cd3d950350>:6: DeprecationWarning: `np.int` is a deprecated alias for the builtin `int`. To silence this warning, use `int` by itself. Doing this will not modify any behavior and is safe. When replacing `np.int`, you may wish to use e.g. `np.int64` or `np.int32` to specify the precision. If you wish to review your current use, check the release note link for additional information.\n",
            "Deprecated in NumPy 1.20; for more details and guidance: https://numpy.org/devdocs/release/1.20.0-notes.html#deprecations\n",
            "  a = np.genfromtxt(x, delimiter=\",\", dtype=np.int)\n"
          ]
        }
      ],
      "source": [
        "from io import StringIO\n",
        "x = StringIO('''1, 2, 3, 4, 5\n",
        "                6,  ,  , 7, 8\n",
        "                 ,  , 9,10,11\n",
        "''')\n",
        "a = np.genfromtxt(x, delimiter=\",\", dtype=np.int)\n",
        "print(a)"
      ]
    },
    {
      "cell_type": "markdown",
      "metadata": {
        "id": "pUC8wtKtnt9F"
      },
      "source": [
        "#### 55. What is the equivalent of enumerate for numpy arrays? (★★☆) \n",
        "(**hint**: np.ndenumerate, np.ndindex)"
      ]
    },
    {
      "cell_type": "code",
      "execution_count": null,
      "metadata": {
        "id": "6bHVrKjtnt9F",
        "colab": {
          "base_uri": "https://localhost:8080/"
        },
        "outputId": "f05bc963-da8b-48c5-ea69-adbdfe16408c"
      },
      "outputs": [
        {
          "output_type": "stream",
          "name": "stdout",
          "text": [
            "(0, 0) 0\n",
            "(0, 1) 1\n",
            "(0, 2) 2\n",
            "(1, 0) 3\n",
            "(1, 1) 4\n",
            "(1, 2) 5\n",
            "(2, 0) 6\n",
            "(2, 1) 7\n",
            "(2, 2) 8\n",
            "(0, 0) 0\n",
            "(0, 1) 1\n",
            "(0, 2) 2\n",
            "(1, 0) 3\n",
            "(1, 1) 4\n",
            "(1, 2) 5\n",
            "(2, 0) 6\n",
            "(2, 1) 7\n",
            "(2, 2) 8\n"
          ]
        }
      ],
      "source": [
        "Z = np.arange(9).reshape(3,3)\n",
        "for index, value in np.ndenumerate(Z):\n",
        "    print(index, value)\n",
        "for index in np.ndindex(Z.shape):\n",
        "    print(index, Z[index])"
      ]
    },
    {
      "cell_type": "markdown",
      "metadata": {
        "id": "FCsUXNsant9F"
      },
      "source": [
        "#### 56. Generate a generic 2D Gaussian-like array (★★☆) \n",
        "(**hint**: np.meshgrid, np.exp)"
      ]
    },
    {
      "cell_type": "code",
      "execution_count": null,
      "metadata": {
        "id": "B8FXUUIznt9F",
        "colab": {
          "base_uri": "https://localhost:8080/"
        },
        "outputId": "9df2abfe-a286-4972-9571-a6752cd64653"
      },
      "outputs": [
        {
          "output_type": "stream",
          "name": "stdout",
          "text": [
            "[[0.36787944 0.44822088 0.51979489 0.57375342 0.60279818 0.60279818\n",
            "  0.57375342 0.51979489 0.44822088 0.36787944]\n",
            " [0.44822088 0.54610814 0.63331324 0.69905581 0.73444367 0.73444367\n",
            "  0.69905581 0.63331324 0.54610814 0.44822088]\n",
            " [0.51979489 0.63331324 0.73444367 0.81068432 0.85172308 0.85172308\n",
            "  0.81068432 0.73444367 0.63331324 0.51979489]\n",
            " [0.57375342 0.69905581 0.81068432 0.89483932 0.9401382  0.9401382\n",
            "  0.89483932 0.81068432 0.69905581 0.57375342]\n",
            " [0.60279818 0.73444367 0.85172308 0.9401382  0.98773022 0.98773022\n",
            "  0.9401382  0.85172308 0.73444367 0.60279818]\n",
            " [0.60279818 0.73444367 0.85172308 0.9401382  0.98773022 0.98773022\n",
            "  0.9401382  0.85172308 0.73444367 0.60279818]\n",
            " [0.57375342 0.69905581 0.81068432 0.89483932 0.9401382  0.9401382\n",
            "  0.89483932 0.81068432 0.69905581 0.57375342]\n",
            " [0.51979489 0.63331324 0.73444367 0.81068432 0.85172308 0.85172308\n",
            "  0.81068432 0.73444367 0.63331324 0.51979489]\n",
            " [0.44822088 0.54610814 0.63331324 0.69905581 0.73444367 0.73444367\n",
            "  0.69905581 0.63331324 0.54610814 0.44822088]\n",
            " [0.36787944 0.44822088 0.51979489 0.57375342 0.60279818 0.60279818\n",
            "  0.57375342 0.51979489 0.44822088 0.36787944]]\n"
          ]
        }
      ],
      "source": [
        "X,Y = np.meshgrid(np.linspace(-1,1,10), np.linspace(-1,1,10))\n",
        "D = np.sqrt(X*X+Y*Y)\n",
        "sigma, mu = 1.0, 0.0\n",
        "G = np.exp(-( (D-mu)**2 / ( 2.0 * sigma**2 ) ) )\n",
        "print(G)"
      ]
    },
    {
      "cell_type": "markdown",
      "metadata": {
        "id": "b0wCZzLvnt9F"
      },
      "source": [
        "#### 57. How to randomly place p elements in a 2D array? (★★☆) \n",
        "(**hint**: np.put, np.random.choice)"
      ]
    },
    {
      "cell_type": "code",
      "execution_count": null,
      "metadata": {
        "id": "LmJsT_IJnt9F",
        "colab": {
          "base_uri": "https://localhost:8080/"
        },
        "outputId": "6bb56b2a-0a48-4a79-bbcc-14410f20912e"
      },
      "outputs": [
        {
          "output_type": "stream",
          "name": "stdout",
          "text": [
            "[[0. 0. 0. 0. 0. 0. 0. 0. 0. 0.]\n",
            " [0. 0. 0. 0. 0. 0. 0. 0. 0. 0.]\n",
            " [0. 0. 0. 0. 0. 0. 0. 0. 0. 0.]\n",
            " [0. 0. 0. 0. 0. 0. 0. 0. 0. 0.]\n",
            " [0. 0. 0. 0. 0. 0. 0. 0. 0. 0.]\n",
            " [0. 0. 0. 0. 0. 0. 0. 0. 0. 0.]\n",
            " [0. 0. 0. 0. 1. 0. 0. 0. 0. 1.]\n",
            " [0. 0. 0. 0. 0. 0. 0. 1. 0. 0.]\n",
            " [0. 0. 0. 0. 0. 0. 0. 0. 0. 0.]\n",
            " [0. 0. 0. 0. 0. 0. 0. 0. 0. 0.]]\n"
          ]
        }
      ],
      "source": [
        "n = 10\n",
        "p = 3\n",
        "Z = np.zeros((n,n))\n",
        "np.put(Z, np.random.choice(range(n*n), p, replace=False),1)\n",
        "print(Z)"
      ]
    },
    {
      "cell_type": "markdown",
      "metadata": {
        "id": "O1Gqb1oknt9F"
      },
      "source": [
        "#### 58. Subtract the mean of each row of a matrix (★★☆) \n",
        "(**hint**: mean(axis=,keepdims=))"
      ]
    },
    {
      "cell_type": "code",
      "execution_count": null,
      "metadata": {
        "id": "yruGPe_9nt9F",
        "colab": {
          "base_uri": "https://localhost:8080/"
        },
        "outputId": "d59eb436-c150-4eb9-903f-08e002bb395b"
      },
      "outputs": [
        {
          "output_type": "stream",
          "name": "stdout",
          "text": [
            "[[ 0.03540824  0.44556265 -0.12884373  0.31314176  0.44376773 -0.46729875\n",
            "  -0.14388382 -0.05558332 -0.18555945 -0.25671132]\n",
            " [-0.05823965  0.25323173 -0.51356829  0.29452722  0.23154436  0.09577694\n",
            "   0.0030931  -0.28387675  0.1392825  -0.16177116]\n",
            " [-0.09801534  0.15575395  0.14460233 -0.44883504  0.07155575 -0.53082349\n",
            "   0.30236467  0.06002952  0.05036971  0.29299793]\n",
            " [-0.10950947 -0.14542254  0.20019596  0.20666793  0.05353396 -0.00476083\n",
            "   0.17048455 -0.27276482 -0.09258917 -0.00583557]\n",
            " [-0.59808023 -0.63545833  0.1986407   0.01824581  0.32715941  0.24373573\n",
            "   0.10093906 -0.19061174  0.26362738  0.27180224]]\n"
          ]
        }
      ],
      "source": [
        "X = np.random.rand(5, 10)\n",
        "Y = X - X.mean(axis=1, keepdims=True)\n",
        "print(Y)"
      ]
    },
    {
      "cell_type": "markdown",
      "metadata": {
        "id": "HdlPGfMfnt9F"
      },
      "source": [
        "#### 59. How to sort an array by the nth column? (★★☆) \n",
        "(**hint**: argsort)"
      ]
    },
    {
      "cell_type": "code",
      "execution_count": null,
      "metadata": {
        "id": "VOe9Am4dnt9G",
        "colab": {
          "base_uri": "https://localhost:8080/"
        },
        "outputId": "a375ed56-73d3-4a02-83e1-4f77c21c82f6"
      },
      "outputs": [
        {
          "output_type": "stream",
          "name": "stdout",
          "text": [
            "[[7 6 6]\n",
            " [9 2 7]\n",
            " [9 0 6]]\n",
            "[[9 0 6]\n",
            " [9 2 7]\n",
            " [7 6 6]]\n"
          ]
        }
      ],
      "source": [
        "a = np.random.randint(0,10,(3,3))\n",
        "print(a)\n",
        "print(a[a[:,1].argsort()])"
      ]
    },
    {
      "cell_type": "markdown",
      "metadata": {
        "id": "kAo1k-xNnt9G"
      },
      "source": [
        "#### 60. How to tell if a given 2D array has null columns? (★★☆) \n",
        "(**hint**: any, ~)"
      ]
    },
    {
      "cell_type": "code",
      "execution_count": null,
      "metadata": {
        "id": "fg2kzCIrnt9G",
        "colab": {
          "base_uri": "https://localhost:8080/"
        },
        "outputId": "309000c2-2a2f-46bf-e93a-1c20d2777d6a"
      },
      "outputs": [
        {
          "output_type": "stream",
          "name": "stdout",
          "text": [
            "False\n"
          ]
        }
      ],
      "source": [
        "a = np.random.randint(0,3,(3,10))\n",
        "print((~a.any(axis=0)).any())"
      ]
    },
    {
      "cell_type": "markdown",
      "metadata": {
        "id": "xAP_H-BQnt9G"
      },
      "source": [
        "#### 61. Find the nearest value from a given value in an array (★★☆) \n",
        "(**hint**: np.abs, argmin, flat)"
      ]
    },
    {
      "cell_type": "code",
      "execution_count": null,
      "metadata": {
        "id": "f1gNmyRtnt9G",
        "colab": {
          "base_uri": "https://localhost:8080/"
        },
        "outputId": "5401670c-dc40-4988-d661-67d2e9fed145"
      },
      "outputs": [
        {
          "output_type": "stream",
          "name": "stdout",
          "text": [
            "0.496952333044157\n"
          ]
        }
      ],
      "source": [
        "Z = np.random.uniform(0,1,10)\n",
        "z = 0.5\n",
        "a = Z.flat[np.abs(Z - z).argmin()]\n",
        "print(a)"
      ]
    },
    {
      "cell_type": "markdown",
      "metadata": {
        "id": "NQtDEP58nt9G"
      },
      "source": [
        "#### 62. Considering two arrays with shape (1,3) and (3,1), how to compute their sum using an iterator? (★★☆) \n",
        "(**hint**: np.nditer)"
      ]
    },
    {
      "cell_type": "code",
      "execution_count": null,
      "metadata": {
        "id": "o1ygI4ifnt9G",
        "colab": {
          "base_uri": "https://localhost:8080/"
        },
        "outputId": "26d47be0-9cae-4ef2-9d74-f500a7a1ad56"
      },
      "outputs": [
        {
          "output_type": "stream",
          "name": "stdout",
          "text": [
            "[[0 1 2]\n",
            " [1 2 3]\n",
            " [2 3 4]]\n"
          ]
        }
      ],
      "source": [
        "a = np.arange(3).reshape(3,1)\n",
        "b = np.arange(3).reshape(1,3)\n",
        "it = np.nditer([a,b,None])\n",
        "for x,y,z in it: z[...] = x + y\n",
        "print(it.operands[2])"
      ]
    },
    {
      "cell_type": "markdown",
      "metadata": {
        "id": "fNYOII4Dnt9G"
      },
      "source": [
        "#### 63. Create an array class that has a name attribute (★★☆) \n",
        "(**hint**: class method)"
      ]
    },
    {
      "cell_type": "code",
      "execution_count": null,
      "metadata": {
        "id": "vfd2Snfznt9G",
        "colab": {
          "base_uri": "https://localhost:8080/"
        },
        "outputId": "74a8cdca-b859-46b0-b0d1-a35515eb8b90"
      },
      "outputs": [
        {
          "output_type": "stream",
          "name": "stdout",
          "text": [
            "range_10\n"
          ]
        }
      ],
      "source": [
        "class NamedArray(np.ndarray):\n",
        "    def __new__(cls, array, name=\"no name\"):\n",
        "        obj = np.asarray(array).view(cls)\n",
        "        obj.name = name\n",
        "        return obj\n",
        "    def __array_finalize__(self, obj):\n",
        "        if obj is None: return\n",
        "        self.info = getattr(obj, 'name', \"no name\")\n",
        "a = NamedArray(np.arange(10), \"range_10\")\n",
        "print (a.name)"
      ]
    },
    {
      "cell_type": "markdown",
      "metadata": {
        "id": "k-CelHNAnt9G"
      },
      "source": [
        "#### 64. Consider a given vector, how to add 1 to each element indexed by a second vector (be careful with repeated indices)? (★★★) \n",
        "(**hint**: np.bincount | np.add.at)"
      ]
    },
    {
      "cell_type": "code",
      "execution_count": null,
      "metadata": {
        "id": "pofQUNKPnt9G",
        "colab": {
          "base_uri": "https://localhost:8080/"
        },
        "outputId": "675ae29c-e757-44bf-aa6a-aa245fd6faad"
      },
      "outputs": [
        {
          "output_type": "stream",
          "name": "stdout",
          "text": [
            "[5. 3. 1. 2. 5. 2. 2. 3. 3. 4.]\n"
          ]
        }
      ],
      "source": [
        "Z = np.ones(10)\n",
        "I = np.random.randint(0,len(Z),20)\n",
        "\n",
        "np.add.at(Z, I, 1)\n",
        "print(Z)"
      ]
    },
    {
      "cell_type": "markdown",
      "metadata": {
        "id": "xVUBVLyynt9G"
      },
      "source": [
        "#### 65. How to accumulate elements of a vector (X) to an array (F) based on an index list (I)? (★★★) \n",
        "(**hint**: np.bincount)"
      ]
    },
    {
      "cell_type": "code",
      "execution_count": null,
      "metadata": {
        "id": "AH93Sws5nt9G",
        "colab": {
          "base_uri": "https://localhost:8080/"
        },
        "outputId": "081c7034-8964-44fa-e588-4e79f84ace44"
      },
      "outputs": [
        {
          "output_type": "stream",
          "name": "stdout",
          "text": [
            "[0. 7. 0. 6. 5. 0. 0. 0. 0. 3.]\n"
          ]
        }
      ],
      "source": [
        "\n",
        "X = [1,2,3,4,5,6]\n",
        "I = [1,3,9,3,4,1]\n",
        "F = np.bincount(I,X)\n",
        "print(F)"
      ]
    },
    {
      "cell_type": "markdown",
      "metadata": {
        "id": "Cznf8t0qnt9G"
      },
      "source": [
        "#### 66. Considering a (w,h,3) image of (dtype=ubyte), compute the number of unique colors (★★★) \n",
        "(**hint**: np.unique)"
      ]
    },
    {
      "cell_type": "code",
      "execution_count": null,
      "metadata": {
        "id": "7YPtR8qZnt9G",
        "colab": {
          "base_uri": "https://localhost:8080/"
        },
        "outputId": "2d892dd2-1a87-4e20-a532-a55203f466b5"
      },
      "outputs": [
        {
          "output_type": "stream",
          "name": "stdout",
          "text": [
            "[0 1]\n"
          ]
        }
      ],
      "source": [
        "w,h = 16,16\n",
        "I = np.random.randint(0,2,(h,w,3)).astype(np.ubyte)\n",
        "F = I[...,0]*256*256 + I[...,1]*256 +I[...,2]\n",
        "n = len(np.unique(F))\n",
        "print(np.unique(I))"
      ]
    },
    {
      "cell_type": "markdown",
      "metadata": {
        "id": "5ZEO-nmFnt9G"
      },
      "source": [
        "#### 67. Considering a four dimensions array, how to get sum over the last two axis at once? (★★★) \n",
        "(**hint**: sum(axis=(-2,-1)))"
      ]
    },
    {
      "cell_type": "code",
      "execution_count": null,
      "metadata": {
        "id": "kkQWxElpnt9G",
        "colab": {
          "base_uri": "https://localhost:8080/"
        },
        "outputId": "1b86494c-f474-4e42-91ae-a0c69137d229"
      },
      "outputs": [
        {
          "output_type": "stream",
          "name": "stdout",
          "text": [
            "[[54 36 63 49]\n",
            " [43 64 41 63]\n",
            " [47 67 41 50]]\n"
          ]
        }
      ],
      "source": [
        "a = np.random.randint(0,10,(3,4,3,4))\n",
        "\n",
        "sum = a.sum(axis=(-2,-1))\n",
        "print(sum)"
      ]
    },
    {
      "cell_type": "markdown",
      "metadata": {
        "id": "iaIuKHZ-nt9G"
      },
      "source": [
        "#### 68. Considering a one-dimensional vector D, how to compute means of subsets of D using a vector S of same size describing subset  indices? (★★★) \n",
        "(**hint**: np.bincount)"
      ]
    },
    {
      "cell_type": "code",
      "execution_count": null,
      "metadata": {
        "id": "LrcjggCOnt9G",
        "colab": {
          "base_uri": "https://localhost:8080/"
        },
        "outputId": "5aa627b0-7208-4ee7-b2ca-4c638c2a277b"
      },
      "outputs": [
        {
          "output_type": "stream",
          "name": "stdout",
          "text": [
            "[0.4513926  0.64569215 0.46453583 0.6691755  0.64171721 0.52928149\n",
            " 0.56962825 0.50110833 0.55323575 0.54447222]\n"
          ]
        }
      ],
      "source": [
        "D = np.random.uniform(0,1,100)\n",
        "S = np.random.randint(0,10,100)\n",
        "D_sums = np.bincount(S, weights=D)\n",
        "D_counts = np.bincount(S)\n",
        "D_means = D_sums / D_counts\n",
        "print(D_means)"
      ]
    },
    {
      "cell_type": "markdown",
      "metadata": {
        "id": "TomcyVkdnt9H"
      },
      "source": [
        "#### 69. How to get the diagonal of a dot product? (★★★) \n",
        "(**hint**: np.diag)"
      ]
    },
    {
      "cell_type": "code",
      "execution_count": null,
      "metadata": {
        "id": "ERpiA7njnt9H",
        "colab": {
          "base_uri": "https://localhost:8080/"
        },
        "outputId": "7357fb0b-538a-4920-fc08-80c4d251720b"
      },
      "outputs": [
        {
          "output_type": "execute_result",
          "data": {
            "text/plain": [
              "array([1.30433465, 1.1464582 , 1.59530068, 1.8409389 , 0.75117058])"
            ]
          },
          "metadata": {},
          "execution_count": 77
        }
      ],
      "source": [
        "a = np.random.uniform(0,1,(5,5))\n",
        "b = np.random.uniform(0,1,(5,5))\n",
        "\n",
        "np.diag(np.dot(a, b))"
      ]
    },
    {
      "cell_type": "markdown",
      "metadata": {
        "id": "y9ESkOYQnt9H"
      },
      "source": [
        "#### 70. Consider the vector \\[1, 2, 3, 4, 5\\], how to build a new vector with 3 consecutive zeros interleaved between each value? (★★★) \n",
        "(**hint**: array\\[::4\\])"
      ]
    },
    {
      "cell_type": "code",
      "execution_count": null,
      "metadata": {
        "id": "BZqecqefnt9H",
        "colab": {
          "base_uri": "https://localhost:8080/"
        },
        "outputId": "64a50fde-6a70-4e1d-f0f8-b6a92492e758"
      },
      "outputs": [
        {
          "output_type": "stream",
          "name": "stdout",
          "text": [
            "[1. 0. 0. 0. 2. 0. 0. 0. 3. 0. 0. 0. 4. 0. 0. 0. 5.]\n"
          ]
        }
      ],
      "source": [
        "Z = np.array([1,2,3,4,5])\n",
        "nz = 3\n",
        "Z0 = np.zeros(len(Z) + (len(Z)-1)*(nz))\n",
        "Z0[::nz+1] = Z\n",
        "print(Z0)"
      ]
    },
    {
      "cell_type": "markdown",
      "metadata": {
        "id": "FHBYQsRGnt9H"
      },
      "source": [
        "#### 71. Consider an array of dimension (5,5,3), how to mulitply it by an array with dimensions (5,5)? (★★★) \n",
        "(**hint**: array\\[:, :, None\\])"
      ]
    },
    {
      "cell_type": "code",
      "execution_count": null,
      "metadata": {
        "collapsed": true,
        "id": "vBYx_3YGnt9H",
        "colab": {
          "base_uri": "https://localhost:8080/"
        },
        "outputId": "05bc34b7-0e4a-42b2-d96f-0be135bf51d1"
      },
      "outputs": [
        {
          "output_type": "stream",
          "name": "stdout",
          "text": [
            "[[[2. 2. 2.]\n",
            "  [2. 2. 2.]\n",
            "  [2. 2. 2.]\n",
            "  [2. 2. 2.]\n",
            "  [2. 2. 2.]]\n",
            "\n",
            " [[2. 2. 2.]\n",
            "  [2. 2. 2.]\n",
            "  [2. 2. 2.]\n",
            "  [2. 2. 2.]\n",
            "  [2. 2. 2.]]\n",
            "\n",
            " [[2. 2. 2.]\n",
            "  [2. 2. 2.]\n",
            "  [2. 2. 2.]\n",
            "  [2. 2. 2.]\n",
            "  [2. 2. 2.]]\n",
            "\n",
            " [[2. 2. 2.]\n",
            "  [2. 2. 2.]\n",
            "  [2. 2. 2.]\n",
            "  [2. 2. 2.]\n",
            "  [2. 2. 2.]]\n",
            "\n",
            " [[2. 2. 2.]\n",
            "  [2. 2. 2.]\n",
            "  [2. 2. 2.]\n",
            "  [2. 2. 2.]\n",
            "  [2. 2. 2.]]]\n"
          ]
        }
      ],
      "source": [
        "a = np.ones((5,5,3))\n",
        "b = 2*np.ones((5,5))\n",
        "print(a * b[:,:,None])"
      ]
    },
    {
      "cell_type": "markdown",
      "metadata": {
        "id": "JhrqSQ3dnt9H"
      },
      "source": [
        "#### 72. How to swap two rows of an array? (★★★) \n",
        "(**hint**: array\\[\\[\\]\\] = array\\[\\[\\]\\])"
      ]
    },
    {
      "cell_type": "code",
      "execution_count": null,
      "metadata": {
        "id": "wlvJvtbjnt9H",
        "colab": {
          "base_uri": "https://localhost:8080/"
        },
        "outputId": "dbdc0249-1cb5-449b-b123-daaa8fe38ffe"
      },
      "outputs": [
        {
          "output_type": "stream",
          "name": "stdout",
          "text": [
            "[[ 6  7  8  9 10 11]\n",
            " [ 0  1  2  3  4  5]\n",
            " [12 13 14 15 16 17]\n",
            " [18 19 20 21 22 23]\n",
            " [24 25 26 27 28 29]]\n"
          ]
        }
      ],
      "source": [
        "a = np.arange(30).reshape(5,6)\n",
        "a[[0,1]] = a[[1,0]]\n",
        "print(a)"
      ]
    },
    {
      "cell_type": "markdown",
      "metadata": {
        "id": "wFj6a6Thnt9H"
      },
      "source": [
        "#### 73. Consider a set of 10 triplets describing 10 triangles (with shared vertices), find the set of unique line segments composing all the  triangles (★★★) \n",
        "(**hint**: repeat, np.roll, np.sort, view, np.unique)"
      ]
    },
    {
      "cell_type": "code",
      "execution_count": null,
      "metadata": {
        "id": "x25EKgignt9H",
        "colab": {
          "base_uri": "https://localhost:8080/"
        },
        "outputId": "2b856e48-a2cc-487b-d9df-1e9b5960348b"
      },
      "outputs": [
        {
          "output_type": "stream",
          "name": "stdout",
          "text": [
            "[( 2,  6) ( 2, 28) ( 6, 28) ( 7, 32) ( 7, 40) ( 9, 50) ( 9, 57) (20, 22)\n",
            " (20, 78) (21, 23) (21, 66) (22, 78) (23, 66) (31, 34) (31, 74) (32, 40)\n",
            " (34, 74) (36, 52) (36, 59) (47, 50) (47, 72) (50, 57) (50, 72) (52, 59)\n",
            " (54, 73) (54, 82) (73, 82) (78, 84) (78, 96) (84, 96)]\n"
          ]
        }
      ],
      "source": [
        "faces = np.random.randint(0,100,(10,3))\n",
        "F = np.roll(faces.repeat(2,axis=1),-1,axis=1)\n",
        "F = F.reshape(len(F)*3,2)\n",
        "F = np.sort(F,axis=1)\n",
        "G = F.view( dtype=[('p0',F.dtype),('p1',F.dtype)] )\n",
        "G = np.unique(G)\n",
        "print(G)\n"
      ]
    },
    {
      "cell_type": "markdown",
      "metadata": {
        "id": "kA8IGxmsnt9H"
      },
      "source": [
        "#### 74. Given an array C that is a bincount, how to produce an array A such that np.bincount(A) == C? (★★★) \n",
        "(**hint**: np.repeat)"
      ]
    },
    {
      "cell_type": "code",
      "execution_count": null,
      "metadata": {
        "id": "ji-k2HrZnt9H",
        "colab": {
          "base_uri": "https://localhost:8080/"
        },
        "outputId": "93a5f575-a6b9-411e-8256-83f280eeabd0"
      },
      "outputs": [
        {
          "output_type": "stream",
          "name": "stdout",
          "text": [
            "[1 1 2 3 4 4 6]\n"
          ]
        }
      ],
      "source": [
        "C = np.bincount([1,1,2,3,4,4,6])\n",
        "A = np.repeat(np.arange(len(C)), C)\n",
        "print(A)"
      ]
    },
    {
      "cell_type": "markdown",
      "metadata": {
        "id": "JOsyH85Vnt9H"
      },
      "source": [
        "#### 75. How to compute averages using a sliding window over an array? (★★★) \n",
        "(**hint**: np.cumsum)"
      ]
    },
    {
      "cell_type": "code",
      "execution_count": null,
      "metadata": {
        "id": "4Fg8o_O8nt9H",
        "colab": {
          "base_uri": "https://localhost:8080/"
        },
        "outputId": "7973dd3d-74a4-46cf-9850-7790c9e3390c"
      },
      "outputs": [
        {
          "output_type": "stream",
          "name": "stdout",
          "text": [
            "[ 1.  2.  3.  4.  5.  6.  7.  8.  9. 10. 11. 12. 13. 14. 15. 16. 17. 18.]\n"
          ]
        }
      ],
      "source": [
        "def moving_average(a, n=3) :\n",
        "    ret = np.cumsum(a, dtype=float)\n",
        "    ret[n:] = ret[n:] - ret[:-n]\n",
        "    return ret[n - 1:] / n\n",
        "a = np.arange(20)\n",
        "print(moving_average(a, n=3))"
      ]
    },
    {
      "cell_type": "markdown",
      "metadata": {
        "id": "7zsedEuunt9H"
      },
      "source": [
        "#### 76. Consider a one-dimensional array Z, build a two-dimensional array whose first row is (Z\\[0\\],Z\\[1\\],Z\\[2\\]) and each subsequent row is  shifted by 1 (last row should be (Z\\[-3\\],Z\\[-2\\],Z\\[-1\\]) (★★★) \n",
        "(**hint**: from numpy.lib import stride_tricks)"
      ]
    },
    {
      "cell_type": "code",
      "execution_count": null,
      "metadata": {
        "id": "1oOcatzunt9H",
        "colab": {
          "base_uri": "https://localhost:8080/"
        },
        "outputId": "a0a21c9e-44a1-42e8-8fcb-8ee41b35f764"
      },
      "outputs": [
        {
          "output_type": "stream",
          "name": "stdout",
          "text": [
            "[[0 1 2]\n",
            " [1 2 3]\n",
            " [2 3 4]\n",
            " [3 4 5]\n",
            " [4 5 6]\n",
            " [5 6 7]\n",
            " [6 7 8]\n",
            " [7 8 9]]\n"
          ]
        }
      ],
      "source": [
        "from numpy.lib import stride_tricks\n",
        "def rolling(a, window):\n",
        "    shape = (a.size - window + 1, window)\n",
        "    strides = (a.itemsize, a.itemsize)\n",
        "    return stride_tricks.as_strided(a, shape=shape, strides=strides)\n",
        "a = rolling(np.arange(10), 3)\n",
        "print(a)"
      ]
    },
    {
      "cell_type": "markdown",
      "metadata": {
        "id": "_t90oBvmnt9H"
      },
      "source": [
        "#### 77. How to negate a boolean, or to change the sign of a float inplace? (★★★) \n",
        "(**hint**: np.logical_not, np.negative)"
      ]
    },
    {
      "cell_type": "code",
      "execution_count": null,
      "metadata": {
        "id": "DQoqXpjcnt9H",
        "colab": {
          "base_uri": "https://localhost:8080/"
        },
        "outputId": "2007c63d-c385-4a4c-9ac7-93b13b025659"
      },
      "outputs": [
        {
          "output_type": "execute_result",
          "data": {
            "text/plain": [
              "array([-0.56313639, -0.91726642,  0.73186136, -0.02774752, -0.83604951,\n",
              "        0.0531591 ,  0.53180871, -0.56776798,  0.01607847, -0.6691047 ,\n",
              "       -0.34060671, -0.45703736,  0.10088175, -0.91503038, -0.05008725,\n",
              "        0.23894837, -0.43396297,  0.30221545,  0.08171942,  0.76834073,\n",
              "        0.94941414, -0.86932397,  0.85211409,  0.49548147,  0.06682287,\n",
              "       -0.51871402, -0.85065414,  0.01301208, -0.38851243, -0.07422923,\n",
              "       -0.88853829, -0.24004856,  0.50168899,  0.40005582, -0.78400743,\n",
              "       -0.43242668, -0.91718671, -0.55462108,  0.72737105,  0.02576699,\n",
              "       -0.65242489,  0.39640778,  0.61551279,  0.18341633, -0.73476459,\n",
              "        0.21259406,  0.30637456,  0.1783557 ,  0.17977097,  0.36642482,\n",
              "       -0.85184181, -0.01185586, -0.78280511, -0.41110939,  0.74316712,\n",
              "       -0.70097774,  0.24442391,  0.75618362, -0.73921967,  0.08426269,\n",
              "       -0.16429335,  0.70882158,  0.89796995, -0.47681259, -0.36653971,\n",
              "        0.60309598, -0.75915107,  0.1139598 , -0.60078051,  0.07850355,\n",
              "       -0.29839384, -0.96620649, -0.69970142,  0.33601076,  0.40778291,\n",
              "       -0.55266974,  0.99546473,  0.28662347,  0.94479691,  0.92042201,\n",
              "       -0.63095624, -0.19537281,  0.1472018 , -0.01076873, -0.00577654,\n",
              "        0.23579345, -0.18862908, -0.48724999,  0.07005003,  0.38942525,\n",
              "        0.03749514, -0.11293543, -0.75110518,  0.9655576 ,  0.6976298 ,\n",
              "        0.14637434, -0.92684788, -0.01974872, -0.06589648,  0.9201409 ])"
            ]
          },
          "metadata": {},
          "execution_count": 85
        }
      ],
      "source": [
        "Z = np.random.randint(0,2,100)\n",
        "np.logical_not(Z, out=Z)\n",
        "Z = np.random.uniform(-1.0,1.0,100)\n",
        "np.negative(Z, out=Z)"
      ]
    },
    {
      "cell_type": "markdown",
      "metadata": {
        "id": "xBly31hint9I"
      },
      "source": [
        "#### 78. Consider 2 sets of points P0,P1 describing lines (2d) and a point p, how to compute distance from p to each line i  (P0\\[i\\],P1\\[i\\])? (★★★)"
      ]
    },
    {
      "cell_type": "code",
      "execution_count": null,
      "metadata": {
        "id": "126r2Xg9nt9I",
        "colab": {
          "base_uri": "https://localhost:8080/"
        },
        "outputId": "84705ca4-bee3-41a3-fcf7-73f728d557a2"
      },
      "outputs": [
        {
          "output_type": "stream",
          "name": "stdout",
          "text": [
            "[ 7.17933117  7.21132415 14.28863922  6.81120711  6.70908683  3.28549564\n",
            "  1.84424817  2.58370888  9.77172929  4.95075622]\n"
          ]
        }
      ],
      "source": [
        "def distance(P0, P1, p):\n",
        "    T = P1 - P0\n",
        "    L = (T**2).sum(axis=1)\n",
        "    U = -((P0[:,0]-p[...,0])*T[:,0] + (P0[:,1]-p[...,1])*T[:,1]) / L\n",
        "    U = U.reshape(len(U),1)\n",
        "    D = P0 + U*T - p\n",
        "    return np.sqrt((D**2).sum(axis=1))\n",
        "P0 = np.random.uniform(-10,10,(10,2))\n",
        "P1 = np.random.uniform(-10,10,(10,2))\n",
        "p  = np.random.uniform(-10,10,( 1,2))\n",
        "print(distance(P0, P1, p))"
      ]
    },
    {
      "cell_type": "markdown",
      "metadata": {
        "id": "V4e93h83nt9I"
      },
      "source": [
        "#### 79. Consider 2 sets of points P0,P1 describing lines (2d) and a set of points P, how to compute distance from each point j (P\\[j\\]) to each line i (P0\\[i\\],P1\\[i\\])? (★★★)"
      ]
    },
    {
      "cell_type": "code",
      "execution_count": null,
      "metadata": {
        "id": "UtKQDEVRnt9I",
        "colab": {
          "base_uri": "https://localhost:8080/"
        },
        "outputId": "a25905de-98d0-4a43-c7f1-1aed5af676d9"
      },
      "outputs": [
        {
          "output_type": "stream",
          "name": "stdout",
          "text": [
            "[[13.26727201 16.64717015 15.16574827  5.12427254  1.09963038  4.05423165\n",
            "   2.32390693  3.27075827  2.45818697  2.19781261]\n",
            " [ 9.10724055 12.47353379 11.52121769  4.36116631  5.82867683  2.12043994\n",
            "   3.7373346   3.91602688  7.32970593  1.72997565]\n",
            " [11.93455905 15.30041502 14.347898    2.395896    5.90674924  0.63642354\n",
            "   2.50628961  5.91975366  7.30604227  2.3133018 ]\n",
            " [ 4.52676037  1.17835451  1.38756904  8.70909197 12.25015537 14.87788156\n",
            "  15.63806646  0.70330885 14.23164896  5.63382373]\n",
            " [ 8.55402773 11.93127192 10.57573871  7.53271569  2.11955766  0.63271888\n",
            "   0.73733556  0.78366343  3.64599807  2.03389546]\n",
            " [11.16939946 14.50190134 14.79173131  5.65805163 17.26506475 10.41410606\n",
            "  12.82345251 13.81939471 18.67493195 13.39899395]\n",
            " [ 6.70535767  3.33833826  4.22571401 14.91145609  5.97659759 10.90188111\n",
            "  11.13518993  6.85673399  8.04574397  0.95486211]\n",
            " [ 0.39854261  3.78311775  2.20289774 14.75847171  0.16909218  1.94779896\n",
            "   2.47791092  6.52692806  1.65388412  5.75532452]\n",
            " [11.41605342 14.76504058 14.44160423  1.59117751 11.65449511  5.65621579\n",
            "   7.78752504  9.82691025 13.06385847  7.89958162]\n",
            " [ 6.33452571  9.68977954  9.16329265  3.34682581  9.65091811  6.78820611\n",
            "   8.36530711  4.84335116 11.24590809  5.01016402]]\n"
          ]
        }
      ],
      "source": [
        "P0 = np.random.uniform(-10, 10, (10,2))\n",
        "P1 = np.random.uniform(-10,10,(10,2))\n",
        "p = np.random.uniform(-10, 10, (10,2))\n",
        "print(np.array([distance(P0,P1,p_i) for p_i in p]))"
      ]
    },
    {
      "cell_type": "markdown",
      "metadata": {
        "id": "G_tHH8G5nt9I"
      },
      "source": [
        "#### 80. Consider an arbitrary array, write a function that extract a subpart with a fixed shape and centered on a given element (pad with a `fill` value when necessary) (★★★) \n",
        "(**hint**: minimum, maximum)"
      ]
    },
    {
      "cell_type": "code",
      "execution_count": null,
      "metadata": {
        "id": "cwHzNqpDnt9I",
        "colab": {
          "base_uri": "https://localhost:8080/"
        },
        "outputId": "37eff4bc-a351-493b-8e09-a053b4d922e0"
      },
      "outputs": [
        {
          "output_type": "stream",
          "name": "stdout",
          "text": [
            "[[6 2 7 8 3 8 5 9 0 6]\n",
            " [4 0 2 2 6 8 6 1 8 0]\n",
            " [2 1 7 9 8 6 1 4 1 5]\n",
            " [9 6 0 0 8 6 3 5 8 2]\n",
            " [5 7 2 2 3 5 1 2 5 7]\n",
            " [2 2 6 6 8 9 1 7 7 1]\n",
            " [4 5 2 2 6 9 8 7 7 4]\n",
            " [0 5 4 6 3 5 9 7 8 1]\n",
            " [0 3 7 0 1 6 8 8 1 9]\n",
            " [1 2 1 4 7 9 5 5 1 0]]\n",
            "[[0 0 0 0 0]\n",
            " [0 6 2 7 8]\n",
            " [0 4 0 2 2]\n",
            " [0 2 1 7 9]\n",
            " [0 9 6 0 0]]\n"
          ]
        },
        {
          "output_type": "stream",
          "name": "stderr",
          "text": [
            "<ipython-input-88-f2b5781f38bf>:23: FutureWarning: Using a non-tuple sequence for multidimensional indexing is deprecated; use `arr[tuple(seq)]` instead of `arr[seq]`. In the future this will be interpreted as an array index, `arr[np.array(seq)]`, which will result either in an error or a different result.\n",
            "  R[r] = Z[z]\n"
          ]
        }
      ],
      "source": [
        "Z = np.random.randint(0,10,(10,10))\n",
        "shape = (5,5)\n",
        "fill  = 0\n",
        "position = (1,1)\n",
        "\n",
        "R = np.ones(shape, dtype=Z.dtype)*fill\n",
        "P  = np.array(list(position)).astype(int)\n",
        "Rs = np.array(list(R.shape)).astype(int)\n",
        "Zs = np.array(list(Z.shape)).astype(int)\n",
        "\n",
        "R_start = np.zeros((len(shape),)).astype(int)\n",
        "R_stop  = np.array(list(shape)).astype(int)\n",
        "Z_start = (P-Rs//2)\n",
        "Z_stop  = (P+Rs//2)+Rs%2\n",
        "\n",
        "R_start = (R_start - np.minimum(Z_start,0)).tolist()\n",
        "Z_start = (np.maximum(Z_start,0)).tolist()\n",
        "R_stop = np.maximum(R_start, (R_stop - np.maximum(Z_stop-Zs,0))).tolist()\n",
        "Z_stop = (np.minimum(Z_stop,Zs)).tolist()\n",
        "\n",
        "r = [slice(start,stop) for start,stop in zip(R_start,R_stop)]\n",
        "z = [slice(start,stop) for start,stop in zip(Z_start,Z_stop)]\n",
        "R[r] = Z[z]\n",
        "print(Z)\n",
        "print(R)"
      ]
    },
    {
      "cell_type": "markdown",
      "metadata": {
        "id": "oI_PVciXnt9I"
      },
      "source": [
        "#### 81. Consider an array Z = \\[1,2,3,4,5,6,7,8,9,10,11,12,13,14\\], how to generate an array R = \\[\\[1,2,3,4\\], \\[2,3,4,5\\], \\[3,4,5,6\\], ..., \\[11,12,13,14\\]\\]? (★★★) \n",
        "(**hint**: stride\\_tricks.as\\_strided)"
      ]
    },
    {
      "cell_type": "code",
      "execution_count": null,
      "metadata": {
        "id": "uQy9sUOVnt9I",
        "colab": {
          "base_uri": "https://localhost:8080/"
        },
        "outputId": "cea08172-41d5-427f-ee4f-fe83efa45aae"
      },
      "outputs": [
        {
          "output_type": "stream",
          "name": "stdout",
          "text": [
            "[[ 1  2  3  4]\n",
            " [ 2  3  4  5]\n",
            " [ 3  4  5  6]\n",
            " [ 4  5  6  7]\n",
            " [ 5  6  7  8]\n",
            " [ 6  7  8  9]\n",
            " [ 7  8  9 10]\n",
            " [ 8  9 10 11]\n",
            " [ 9 10 11 12]\n",
            " [10 11 12 13]\n",
            " [11 12 13 14]]\n"
          ]
        }
      ],
      "source": [
        "Z = np.arange(1,15,dtype=np.uint32)\n",
        "R = stride_tricks.as_strided(Z,(11,4),(4,4))\n",
        "print(R)"
      ]
    },
    {
      "cell_type": "markdown",
      "metadata": {
        "id": "4a2nbuXJnt9I"
      },
      "source": [
        "#### 82. Compute a matrix rank (★★★) \n",
        "(**hint**: np.linalg.svd) (suggestion: np.linalg.svd)"
      ]
    },
    {
      "cell_type": "code",
      "execution_count": null,
      "metadata": {
        "id": "sRi6gsBInt9I",
        "colab": {
          "base_uri": "https://localhost:8080/"
        },
        "outputId": "64ae1dfe-a045-4462-d617-884779cf1a88"
      },
      "outputs": [
        {
          "output_type": "stream",
          "name": "stdout",
          "text": [
            "10\n"
          ]
        }
      ],
      "source": [
        "Z = np.random.uniform(0,1,(10,10))\n",
        "U, S, V = np.linalg.svd(Z) \n",
        "rank = np.sum(S > 1e-10)\n",
        "print(rank)"
      ]
    },
    {
      "cell_type": "markdown",
      "metadata": {
        "id": "cLf8Ys85nt9I"
      },
      "source": [
        "#### 83. How to find the most frequent value in an array? \n",
        "(**hint**: np.bincount, argmax)"
      ]
    },
    {
      "cell_type": "code",
      "execution_count": null,
      "metadata": {
        "id": "3gcQW7pOnt9I",
        "colab": {
          "base_uri": "https://localhost:8080/"
        },
        "outputId": "0ca2dd08-998c-44ef-9120-f01cf05e2552"
      },
      "outputs": [
        {
          "output_type": "stream",
          "name": "stdout",
          "text": [
            "5\n"
          ]
        }
      ],
      "source": [
        "a = np.random.randint(0,10,50)\n",
        "print(np.bincount(a).argmax())\n"
      ]
    },
    {
      "cell_type": "markdown",
      "metadata": {
        "id": "IeMLHgO2nt9I"
      },
      "source": [
        "#### 84. Extract all the contiguous 3x3 blocks from a random 10x10 matrix (★★★) \n",
        "(**hint**: stride\\_tricks.as\\_strided)"
      ]
    },
    {
      "cell_type": "code",
      "execution_count": null,
      "metadata": {
        "id": "UtZV3DoQnt9I",
        "colab": {
          "base_uri": "https://localhost:8080/"
        },
        "outputId": "751cca4e-1996-45a0-c51f-e49d74ae4cd8"
      },
      "outputs": [
        {
          "output_type": "stream",
          "name": "stdout",
          "text": [
            "[[[[0 3 0]\n",
            "   [1 3 3]\n",
            "   [0 1 0]]\n",
            "\n",
            "  [[3 0 3]\n",
            "   [3 3 3]\n",
            "   [1 0 2]]\n",
            "\n",
            "  [[0 3 4]\n",
            "   [3 3 2]\n",
            "   [0 2 3]]\n",
            "\n",
            "  [[3 4 4]\n",
            "   [3 2 2]\n",
            "   [2 3 2]]\n",
            "\n",
            "  [[4 4 4]\n",
            "   [2 2 3]\n",
            "   [3 2 4]]\n",
            "\n",
            "  [[4 4 4]\n",
            "   [2 3 3]\n",
            "   [2 4 1]]\n",
            "\n",
            "  [[4 4 1]\n",
            "   [3 3 2]\n",
            "   [4 1 3]]\n",
            "\n",
            "  [[4 1 2]\n",
            "   [3 2 3]\n",
            "   [1 3 3]]]\n",
            "\n",
            "\n",
            " [[[1 3 3]\n",
            "   [0 1 0]\n",
            "   [2 4 4]]\n",
            "\n",
            "  [[3 3 3]\n",
            "   [1 0 2]\n",
            "   [4 4 1]]\n",
            "\n",
            "  [[3 3 2]\n",
            "   [0 2 3]\n",
            "   [4 1 3]]\n",
            "\n",
            "  [[3 2 2]\n",
            "   [2 3 2]\n",
            "   [1 3 3]]\n",
            "\n",
            "  [[2 2 3]\n",
            "   [3 2 4]\n",
            "   [3 3 1]]\n",
            "\n",
            "  [[2 3 3]\n",
            "   [2 4 1]\n",
            "   [3 1 2]]\n",
            "\n",
            "  [[3 3 2]\n",
            "   [4 1 3]\n",
            "   [1 2 2]]\n",
            "\n",
            "  [[3 2 3]\n",
            "   [1 3 3]\n",
            "   [2 2 1]]]\n",
            "\n",
            "\n",
            " [[[0 1 0]\n",
            "   [2 4 4]\n",
            "   [0 0 4]]\n",
            "\n",
            "  [[1 0 2]\n",
            "   [4 4 1]\n",
            "   [0 4 2]]\n",
            "\n",
            "  [[0 2 3]\n",
            "   [4 1 3]\n",
            "   [4 2 1]]\n",
            "\n",
            "  [[2 3 2]\n",
            "   [1 3 3]\n",
            "   [2 1 1]]\n",
            "\n",
            "  [[3 2 4]\n",
            "   [3 3 1]\n",
            "   [1 1 3]]\n",
            "\n",
            "  [[2 4 1]\n",
            "   [3 1 2]\n",
            "   [1 3 1]]\n",
            "\n",
            "  [[4 1 3]\n",
            "   [1 2 2]\n",
            "   [3 1 4]]\n",
            "\n",
            "  [[1 3 3]\n",
            "   [2 2 1]\n",
            "   [1 4 4]]]\n",
            "\n",
            "\n",
            " [[[2 4 4]\n",
            "   [0 0 4]\n",
            "   [3 1 0]]\n",
            "\n",
            "  [[4 4 1]\n",
            "   [0 4 2]\n",
            "   [1 0 2]]\n",
            "\n",
            "  [[4 1 3]\n",
            "   [4 2 1]\n",
            "   [0 2 4]]\n",
            "\n",
            "  [[1 3 3]\n",
            "   [2 1 1]\n",
            "   [2 4 3]]\n",
            "\n",
            "  [[3 3 1]\n",
            "   [1 1 3]\n",
            "   [4 3 0]]\n",
            "\n",
            "  [[3 1 2]\n",
            "   [1 3 1]\n",
            "   [3 0 1]]\n",
            "\n",
            "  [[1 2 2]\n",
            "   [3 1 4]\n",
            "   [0 1 0]]\n",
            "\n",
            "  [[2 2 1]\n",
            "   [1 4 4]\n",
            "   [1 0 1]]]\n",
            "\n",
            "\n",
            " [[[0 0 4]\n",
            "   [3 1 0]\n",
            "   [4 3 3]]\n",
            "\n",
            "  [[0 4 2]\n",
            "   [1 0 2]\n",
            "   [3 3 4]]\n",
            "\n",
            "  [[4 2 1]\n",
            "   [0 2 4]\n",
            "   [3 4 4]]\n",
            "\n",
            "  [[2 1 1]\n",
            "   [2 4 3]\n",
            "   [4 4 2]]\n",
            "\n",
            "  [[1 1 3]\n",
            "   [4 3 0]\n",
            "   [4 2 3]]\n",
            "\n",
            "  [[1 3 1]\n",
            "   [3 0 1]\n",
            "   [2 3 2]]\n",
            "\n",
            "  [[3 1 4]\n",
            "   [0 1 0]\n",
            "   [3 2 0]]\n",
            "\n",
            "  [[1 4 4]\n",
            "   [1 0 1]\n",
            "   [2 0 0]]]\n",
            "\n",
            "\n",
            " [[[3 1 0]\n",
            "   [4 3 3]\n",
            "   [1 2 1]]\n",
            "\n",
            "  [[1 0 2]\n",
            "   [3 3 4]\n",
            "   [2 1 1]]\n",
            "\n",
            "  [[0 2 4]\n",
            "   [3 4 4]\n",
            "   [1 1 4]]\n",
            "\n",
            "  [[2 4 3]\n",
            "   [4 4 2]\n",
            "   [1 4 3]]\n",
            "\n",
            "  [[4 3 0]\n",
            "   [4 2 3]\n",
            "   [4 3 4]]\n",
            "\n",
            "  [[3 0 1]\n",
            "   [2 3 2]\n",
            "   [3 4 4]]\n",
            "\n",
            "  [[0 1 0]\n",
            "   [3 2 0]\n",
            "   [4 4 0]]\n",
            "\n",
            "  [[1 0 1]\n",
            "   [2 0 0]\n",
            "   [4 0 1]]]\n",
            "\n",
            "\n",
            " [[[4 3 3]\n",
            "   [1 2 1]\n",
            "   [2 0 1]]\n",
            "\n",
            "  [[3 3 4]\n",
            "   [2 1 1]\n",
            "   [0 1 2]]\n",
            "\n",
            "  [[3 4 4]\n",
            "   [1 1 4]\n",
            "   [1 2 1]]\n",
            "\n",
            "  [[4 4 2]\n",
            "   [1 4 3]\n",
            "   [2 1 1]]\n",
            "\n",
            "  [[4 2 3]\n",
            "   [4 3 4]\n",
            "   [1 1 4]]\n",
            "\n",
            "  [[2 3 2]\n",
            "   [3 4 4]\n",
            "   [1 4 4]]\n",
            "\n",
            "  [[3 2 0]\n",
            "   [4 4 0]\n",
            "   [4 4 0]]\n",
            "\n",
            "  [[2 0 0]\n",
            "   [4 0 1]\n",
            "   [4 0 1]]]\n",
            "\n",
            "\n",
            " [[[1 2 1]\n",
            "   [2 0 1]\n",
            "   [4 4 4]]\n",
            "\n",
            "  [[2 1 1]\n",
            "   [0 1 2]\n",
            "   [4 4 2]]\n",
            "\n",
            "  [[1 1 4]\n",
            "   [1 2 1]\n",
            "   [4 2 4]]\n",
            "\n",
            "  [[1 4 3]\n",
            "   [2 1 1]\n",
            "   [2 4 0]]\n",
            "\n",
            "  [[4 3 4]\n",
            "   [1 1 4]\n",
            "   [4 0 0]]\n",
            "\n",
            "  [[3 4 4]\n",
            "   [1 4 4]\n",
            "   [0 0 1]]\n",
            "\n",
            "  [[4 4 0]\n",
            "   [4 4 0]\n",
            "   [0 1 0]]\n",
            "\n",
            "  [[4 0 1]\n",
            "   [4 0 1]\n",
            "   [1 0 2]]]]\n"
          ]
        }
      ],
      "source": [
        "Z = np.random.randint(0,5,(10,10))\n",
        "n = 3\n",
        "i = 1 + (Z.shape[0]-3)\n",
        "j = 1 + (Z.shape[1]-3)\n",
        "C = stride_tricks.as_strided(Z, shape=(i, j, n, n), strides=Z.strides + Z.strides)\n",
        "print(C)"
      ]
    },
    {
      "cell_type": "markdown",
      "metadata": {
        "id": "SPmfK8Dynt9I"
      },
      "source": [
        "#### 85. Create a 2D array subclass such that Z\\[i,j\\] == Z\\[j,i\\] (★★★) \n",
        "(**hint**: class method)"
      ]
    },
    {
      "cell_type": "code",
      "execution_count": null,
      "metadata": {
        "id": "guFyNj8ent9I",
        "colab": {
          "base_uri": "https://localhost:8080/"
        },
        "outputId": "e29635cf-2b0a-4c34-9fa2-293759f68486"
      },
      "outputs": [
        {
          "output_type": "stream",
          "name": "stdout",
          "text": [
            "[[ 8  8  8 10 10]\n",
            " [ 8  6  9  6 12]\n",
            " [ 8  9  3 42 13]\n",
            " [10  6 42  6 11]\n",
            " [10 12 13 11  7]]\n"
          ]
        }
      ],
      "source": [
        "class Symetric(np.ndarray):\n",
        "    def __setitem__(self, index, value):\n",
        "        i,j = index\n",
        "        super(Symetric, self).__setitem__((i,j), value)\n",
        "        super(Symetric, self).__setitem__((j,i), value)\n",
        "def symetric(Z):\n",
        "    return np.asarray(Z + Z.T - np.diag(Z.diagonal())).view(Symetric)\n",
        "S = symetric(np.random.randint(0,10,(5,5)))\n",
        "S[2,3] = 42\n",
        "print(S)"
      ]
    },
    {
      "cell_type": "markdown",
      "metadata": {
        "id": "zypgLJFLnt9I"
      },
      "source": [
        "#### 86. Consider a set of p matrices wich shape (n,n) and a set of p vectors with shape (n,1). How to compute the sum of of the p matrix products at once? (result has shape (n,1)) (★★★) \n",
        "(**hint**: np.tensordot)"
      ]
    },
    {
      "cell_type": "code",
      "execution_count": null,
      "metadata": {
        "id": "9JLqy5xWnt9I",
        "colab": {
          "base_uri": "https://localhost:8080/"
        },
        "outputId": "a8d7be51-53a9-4db5-e282-eb23b4c96bda"
      },
      "outputs": [
        {
          "output_type": "stream",
          "name": "stdout",
          "text": [
            "[[200.]\n",
            " [200.]\n",
            " [200.]\n",
            " [200.]\n",
            " [200.]\n",
            " [200.]\n",
            " [200.]\n",
            " [200.]\n",
            " [200.]\n",
            " [200.]\n",
            " [200.]\n",
            " [200.]\n",
            " [200.]\n",
            " [200.]\n",
            " [200.]\n",
            " [200.]\n",
            " [200.]\n",
            " [200.]\n",
            " [200.]\n",
            " [200.]]\n"
          ]
        }
      ],
      "source": [
        "p, n = 10, 20\n",
        "M = np.ones((p,n,n))\n",
        "V = np.ones((p,n,1))\n",
        "S = np.tensordot(M, V, axes=[[0, 2], [0, 1]])\n",
        "print(S)"
      ]
    },
    {
      "cell_type": "markdown",
      "metadata": {
        "id": "episGMitnt9I"
      },
      "source": [
        "#### 87. Consider a 16x16 array, how to get the block-sum (block size is 4x4)? (★★★) \n",
        "(**hint**: np.add.reduceat)"
      ]
    },
    {
      "cell_type": "code",
      "execution_count": null,
      "metadata": {
        "id": "ihxqvunYnt9I",
        "colab": {
          "base_uri": "https://localhost:8080/"
        },
        "outputId": "40da9466-071f-416e-900b-46e32a250d83"
      },
      "outputs": [
        {
          "output_type": "stream",
          "name": "stdout",
          "text": [
            "[[16. 16. 16. 16.]\n",
            " [16. 16. 16. 16.]\n",
            " [16. 16. 16. 16.]\n",
            " [16. 16. 16. 16.]]\n"
          ]
        }
      ],
      "source": [
        "Z = np.ones((16,16))\n",
        "k = 4\n",
        "S = np.add.reduceat(np.add.reduceat(Z, np.arange(0, Z.shape[0], k), axis=0),\n",
        "                                       np.arange(0, Z.shape[1], k), axis=1)\n",
        "print(S)"
      ]
    },
    {
      "cell_type": "markdown",
      "metadata": {
        "id": "tgn37-annt9I"
      },
      "source": [
        "#### 88. How to implement the Game of Life using numpy arrays? (★★★)"
      ]
    },
    {
      "cell_type": "code",
      "execution_count": null,
      "metadata": {
        "id": "yYQ9YTxUnt9J",
        "colab": {
          "base_uri": "https://localhost:8080/"
        },
        "outputId": "7ae4c816-775e-42a5-d5e2-d17964475fa3"
      },
      "outputs": [
        {
          "output_type": "stream",
          "name": "stdout",
          "text": [
            "[[0 0 0 ... 0 0 0]\n",
            " [0 0 0 ... 0 0 0]\n",
            " [0 0 0 ... 0 0 0]\n",
            " ...\n",
            " [0 0 0 ... 0 0 0]\n",
            " [0 0 0 ... 0 0 0]\n",
            " [0 0 0 ... 0 0 0]]\n"
          ]
        }
      ],
      "source": [
        "\n",
        "def iterate(Z):\n",
        "    \n",
        "    N = (Z[0:-2,0:-2] + Z[0:-2,1:-1] + Z[0:-2,2:] +\n",
        "         Z[1:-1,0:-2]                + Z[1:-1,2:] +\n",
        "         Z[2:  ,0:-2] + Z[2:  ,1:-1] + Z[2:  ,2:])\n",
        "    \n",
        "    birth = (N==3) & (Z[1:-1,1:-1]==0)\n",
        "    survive = ((N==2) | (N==3)) & (Z[1:-1,1:-1]==1)\n",
        "    Z[...] = 0\n",
        "    Z[1:-1,1:-1][birth | survive] = 1\n",
        "    return Z\n",
        "Z = np.random.randint(0,2,(50,50))\n",
        "for i in range(100): Z = iterate(Z)\n",
        "print(Z)"
      ]
    },
    {
      "cell_type": "markdown",
      "metadata": {
        "id": "GN-ujCXXnt9J"
      },
      "source": [
        "#### 89. How to get the n largest values of an array (★★★) \n",
        "(**hint**: np.argsort | np.argpartition)"
      ]
    },
    {
      "cell_type": "code",
      "execution_count": null,
      "metadata": {
        "id": "pXnIsnugnt9J",
        "colab": {
          "base_uri": "https://localhost:8080/"
        },
        "outputId": "46cab2a6-0161-44ca-bdfa-e7a7fec6dfef"
      },
      "outputs": [
        {
          "output_type": "stream",
          "name": "stdout",
          "text": [
            "[9999 9997 9998 9996 9995]\n"
          ]
        }
      ],
      "source": [
        "Z = np.arange(10000)\n",
        "np.random.shuffle(Z)\n",
        "n = 5\n",
        "print (Z[np.argpartition(-Z,n)[:n]])"
      ]
    },
    {
      "cell_type": "markdown",
      "metadata": {
        "id": "M9DNOLSXnt9J"
      },
      "source": [
        "#### 90. Given an arbitrary number of vectors, build the cartesian product (every combinations of every item) (★★★) \n",
        "(**hint**: np.indices)"
      ]
    },
    {
      "cell_type": "code",
      "execution_count": null,
      "metadata": {
        "scrolled": true,
        "id": "bVNJJY7ant9J",
        "colab": {
          "base_uri": "https://localhost:8080/"
        },
        "outputId": "6ce7f301-831a-492a-d92f-182597054dfc"
      },
      "outputs": [
        {
          "output_type": "stream",
          "name": "stdout",
          "text": [
            "[[1 4 6]\n",
            " [1 4 7]\n",
            " [1 5 6]\n",
            " [1 5 7]\n",
            " [2 4 6]\n",
            " [2 4 7]\n",
            " [2 5 6]\n",
            " [2 5 7]\n",
            " [3 4 6]\n",
            " [3 4 7]\n",
            " [3 5 6]\n",
            " [3 5 7]]\n"
          ]
        }
      ],
      "source": [
        "def cartesian(arrays):\n",
        "    arrays = [np.asarray(a) for a in arrays]\n",
        "    shape = (len(x) for x in arrays)\n",
        "    ix = np.indices(shape, dtype=int)\n",
        "    ix = ix.reshape(len(arrays), -1).T\n",
        "    for n, arr in enumerate(arrays):\n",
        "        ix[:, n] = arrays[n][ix[:, n]]\n",
        "    return ix\n",
        "print (cartesian(([1, 2, 3], [4, 5], [6, 7])))"
      ]
    },
    {
      "cell_type": "markdown",
      "metadata": {
        "id": "KL5Dp3oznt9J"
      },
      "source": [
        "#### 91. How to create a record array from a regular array? (★★★) \n",
        "(**hint**: np.core.records.fromarrays)"
      ]
    },
    {
      "cell_type": "code",
      "execution_count": null,
      "metadata": {
        "id": "0BqEY6yNnt9J",
        "colab": {
          "base_uri": "https://localhost:8080/"
        },
        "outputId": "5482b752-9d17-4e1c-b1d5-43424016f11c"
      },
      "outputs": [
        {
          "output_type": "stream",
          "name": "stdout",
          "text": [
            "[(b'Hello', 2.5, 3) (b'World', 3.6, 2)]\n"
          ]
        }
      ],
      "source": [
        "Z = np.array([(\"Hello\", 2.5, 3),\n",
        "              (\"World\", 3.6, 2)])\n",
        "R = np.core.records.fromarrays(Z.T,\n",
        "                               names='col1, col2, col3',\n",
        "                               formats = 'S8, f8, i8')\n",
        "print(R)"
      ]
    },
    {
      "cell_type": "markdown",
      "metadata": {
        "id": "RzS4UvfHnt9J"
      },
      "source": [
        "#### 92. Consider a large vector Z, compute Z to the power of 3 using 3 different methods (★★★) \n",
        "(**hint**: np.power, \\*, np.einsum)"
      ]
    },
    {
      "cell_type": "code",
      "execution_count": null,
      "metadata": {
        "id": "uGON7UJKnt9J",
        "colab": {
          "base_uri": "https://localhost:8080/"
        },
        "outputId": "79490de7-7288-45e4-bcec-c440ec187f55"
      },
      "outputs": [
        {
          "output_type": "stream",
          "name": "stdout",
          "text": [
            "2.21 s ± 230 ms per loop (mean ± std. dev. of 7 runs, 1 loop each)\n",
            "56.3 ms ± 548 µs per loop (mean ± std. dev. of 7 runs, 10 loops each)\n",
            "50.7 ms ± 1.44 ms per loop (mean ± std. dev. of 7 runs, 10 loops each)\n"
          ]
        }
      ],
      "source": [
        "x = np.random.rand(int(5e7))\n",
        "%timeit np.power(x,3)\n",
        "%timeit x*x*x\n",
        "%timeit np.einsum('i,i,i->i',x,x,x)\n"
      ]
    },
    {
      "cell_type": "markdown",
      "metadata": {
        "id": "wLIzqNjlnt9J"
      },
      "source": [
        "#### 93. Consider two arrays A and B of shape (8,3) and (2,2). How to find rows of A that contain elements of each row of B regardless of the order of the elements in B? (★★★) \n",
        "(**hint**: np.where)"
      ]
    },
    {
      "cell_type": "code",
      "execution_count": null,
      "metadata": {
        "id": "C9JJhFEVnt9J",
        "colab": {
          "base_uri": "https://localhost:8080/"
        },
        "outputId": "063c1fc8-1903-411e-c248-6b10df8a89ea"
      },
      "outputs": [
        {
          "output_type": "stream",
          "name": "stdout",
          "text": [
            "[0 1 2 5 6 7]\n"
          ]
        }
      ],
      "source": [
        "A = np.random.randint(0,5,(8,3))\n",
        "B = np.random.randint(0,5,(2,2))\n",
        "C = (A[..., np.newaxis, np.newaxis] == B)\n",
        "rows = np.where(C.any((3,1)).all(1))[0]\n",
        "print(rows)"
      ]
    },
    {
      "cell_type": "markdown",
      "metadata": {
        "id": "rsq8tyjpnt9J"
      },
      "source": [
        "#### 94. Considering a 10x3 matrix, extract rows with unequal values (e.g. \\[2,2,3\\]) (★★★)"
      ]
    },
    {
      "cell_type": "code",
      "execution_count": null,
      "metadata": {
        "id": "dIkTdWbAnt9J",
        "colab": {
          "base_uri": "https://localhost:8080/"
        },
        "outputId": "919b4822-1110-47ab-ba58-9552104cc678"
      },
      "outputs": [
        {
          "output_type": "stream",
          "name": "stdout",
          "text": [
            "[[3 3 3]\n",
            " [0 4 2]\n",
            " [4 1 0]\n",
            " [4 3 2]\n",
            " [1 4 3]\n",
            " [1 0 1]\n",
            " [0 2 3]\n",
            " [3 4 1]\n",
            " [0 4 1]\n",
            " [3 1 0]]\n",
            "[[0 4 2]\n",
            " [4 1 0]\n",
            " [4 3 2]\n",
            " [1 4 3]\n",
            " [1 0 1]\n",
            " [0 2 3]\n",
            " [3 4 1]\n",
            " [0 4 1]\n",
            " [3 1 0]]\n",
            "[[0 4 2]\n",
            " [4 1 0]\n",
            " [4 3 2]\n",
            " [1 4 3]\n",
            " [1 0 1]\n",
            " [0 2 3]\n",
            " [3 4 1]\n",
            " [0 4 1]\n",
            " [3 1 0]]\n"
          ]
        }
      ],
      "source": [
        "Z = np.random.randint(0,5,(10,3))\n",
        "print(Z)\n",
        "\n",
        "E = np.all(Z[:,1:] == Z[:,:-1], axis=1)\n",
        "U = Z[~E]\n",
        "print(U)\n",
        "\n",
        "U = Z[Z.max(axis=1) != Z.min(axis=1),:]\n",
        "print(U)"
      ]
    },
    {
      "cell_type": "markdown",
      "metadata": {
        "id": "VlN9gm0int9J"
      },
      "source": [
        "#### 95. Convert a vector of ints into a matrix binary representation (★★★) \n",
        "(**hint**: np.unpackbits)"
      ]
    },
    {
      "cell_type": "code",
      "execution_count": null,
      "metadata": {
        "id": "bDY-E1nrnt9J",
        "colab": {
          "base_uri": "https://localhost:8080/"
        },
        "outputId": "0dad4d78-2cef-4f9c-fbba-16763140d6e5"
      },
      "outputs": [
        {
          "output_type": "stream",
          "name": "stdout",
          "text": [
            "[[0 0 0 0 0 0 0 0]\n",
            " [0 0 0 0 0 0 0 1]\n",
            " [0 0 0 0 0 0 1 0]\n",
            " [0 0 0 0 0 0 1 1]\n",
            " [0 0 0 0 1 1 1 1]\n",
            " [0 0 0 1 0 0 0 0]\n",
            " [0 0 1 0 0 0 0 0]\n",
            " [0 1 0 0 0 0 0 0]\n",
            " [1 0 0 0 0 0 0 0]]\n",
            "[[0 0 0 0 0 0 0 0]\n",
            " [0 0 0 0 0 0 0 1]\n",
            " [0 0 0 0 0 0 1 0]\n",
            " [0 0 0 0 0 0 1 1]\n",
            " [0 0 0 0 1 1 1 1]\n",
            " [0 0 0 1 0 0 0 0]\n",
            " [0 0 1 0 0 0 0 0]\n",
            " [0 1 0 0 0 0 0 0]\n",
            " [1 0 0 0 0 0 0 0]]\n"
          ]
        }
      ],
      "source": [
        "I = np.array([0, 1, 2, 3, 15, 16, 32, 64, 128])\n",
        "B = ((I.reshape(-1,1) & (2**np.arange(8))) != 0).astype(int)\n",
        "print(B[:,::-1])\n",
        "\n",
        "I = np.array([0, 1, 2, 3, 15, 16, 32, 64, 128], dtype=np.uint8)\n",
        "print(np.unpackbits(I[:, np.newaxis], axis=1))"
      ]
    },
    {
      "cell_type": "markdown",
      "metadata": {
        "id": "0eb4KcLDnt9J"
      },
      "source": [
        "#### 96. Given a two dimensional array, how to extract unique rows? (★★★) \n",
        "(**hint**: np.ascontiguousarray)"
      ]
    },
    {
      "cell_type": "code",
      "execution_count": null,
      "metadata": {
        "id": "otd3Fqqrnt9J",
        "colab": {
          "base_uri": "https://localhost:8080/"
        },
        "outputId": "09dfa7ef-6659-470f-afda-766376e478bc"
      },
      "outputs": [
        {
          "output_type": "stream",
          "name": "stdout",
          "text": [
            "[[0 0 0]\n",
            " [0 1 0]\n",
            " [1 0 0]\n",
            " [1 0 1]\n",
            " [1 1 1]]\n"
          ]
        }
      ],
      "source": [
        "Z = np.random.randint(0,2,(6,3))\n",
        "T = np.ascontiguousarray(Z).view(np.dtype((np.void, Z.dtype.itemsize * Z.shape[1])))\n",
        "_, idx = np.unique(T, return_index=True)\n",
        "uZ = Z[idx]\n",
        "print(uZ)\n",
        "\n"
      ]
    },
    {
      "cell_type": "markdown",
      "metadata": {
        "id": "7f0kRHH-nt9J"
      },
      "source": [
        "#### 97. Considering 2 vectors A & B, write the einsum equivalent of inner, outer, sum, and mul function (★★★) \n",
        "(**hint**: np.einsum)"
      ]
    },
    {
      "cell_type": "code",
      "execution_count": null,
      "metadata": {
        "id": "A8Mk_0aGnt9J",
        "colab": {
          "base_uri": "https://localhost:8080/"
        },
        "outputId": "afe7b0bd-1d4e-4a64-dcdd-e420afe31297"
      },
      "outputs": [
        {
          "output_type": "execute_result",
          "data": {
            "text/plain": [
              "array([[0.35325835, 0.07532414, 0.54824604, 0.16448095, 0.03470414,\n",
              "        0.26347676, 0.13940244, 0.49183142, 0.14922184, 0.18447111],\n",
              "       [0.05616995, 0.01197694, 0.08717403, 0.02615334, 0.00551814,\n",
              "        0.0418942 , 0.02216573, 0.07820381, 0.02372707, 0.02933189],\n",
              "       [0.61694309, 0.13154878, 0.95747659, 0.28725544, 0.06060855,\n",
              "        0.46014529, 0.24345743, 0.85895207, 0.26060639, 0.32216698],\n",
              "       [0.276671  , 0.05899366, 0.42938483, 0.12882104, 0.02718019,\n",
              "        0.2063543 , 0.10917961, 0.38520105, 0.11687015, 0.14447728],\n",
              "       [0.33359674, 0.07113176, 0.51773183, 0.15532629, 0.03277258,\n",
              "        0.24881221, 0.13164359, 0.46445712, 0.14091647, 0.17420384],\n",
              "       [0.22607454, 0.04820514, 0.3508607 , 0.10526278, 0.02220959,\n",
              "        0.16861707, 0.0892133 , 0.31475707, 0.09549742, 0.11805587],\n",
              "       [0.59556969, 0.1269914 , 0.92430574, 0.27730375, 0.05850883,\n",
              "        0.444204  , 0.23502308, 0.8291945 , 0.25157794, 0.31100581],\n",
              "       [0.0548419 , 0.01169376, 0.08511294, 0.02553499, 0.00538767,\n",
              "        0.04090368, 0.02164165, 0.0763548 , 0.02316608, 0.02863838],\n",
              "       [0.15900545, 0.03390422, 0.24677154, 0.07403467, 0.01562071,\n",
              "        0.11859377, 0.06274656, 0.2213787 , 0.06716638, 0.08303246],\n",
              "       [0.31517513, 0.06720378, 0.48914205, 0.14674898, 0.03096284,\n",
              "        0.2350725 , 0.12437408, 0.43880925, 0.1331349 , 0.1645841 ]])"
            ]
          },
          "metadata": {},
          "execution_count": 106
        }
      ],
      "source": [
        "A = np.random.uniform(0,1,10)\n",
        "B = np.random.uniform(0,1,10)\n",
        "np.einsum('i->', A)      \n",
        "np.einsum('i,i->i', A, B) \n",
        "np.einsum('i,i', A, B)    \n",
        "np.einsum('i,j->ij', A, B)    "
      ]
    },
    {
      "cell_type": "markdown",
      "metadata": {
        "id": "XXUfdjARnt9N"
      },
      "source": [
        "#### 98. Considering a path described by two vectors (X,Y), how to sample it using equidistant samples (★★★)? \n",
        "(**hint**: np.cumsum, np.interp)"
      ]
    },
    {
      "cell_type": "code",
      "execution_count": null,
      "metadata": {
        "collapsed": true,
        "id": "CLBccomRnt9N"
      },
      "outputs": [],
      "source": [
        "\n",
        "phi = np.arange(0, 10*np.pi, 0.1)\n",
        "a = 1\n",
        "x = a*phi*np.cos(phi)\n",
        "y = a*phi*np.sin(phi)\n",
        "dr = (np.diff(x)**2 + np.diff(y)**2)**.5 \n",
        "r = np.zeros_like(x)\n",
        "r[1:] = np.cumsum(dr)                \n",
        "r_int = np.linspace(0, r.max(), 200) \n",
        "x_int = np.interp(r_int, r, x)       \n",
        "y_int = np.interp(r_int, r, y)"
      ]
    },
    {
      "cell_type": "markdown",
      "metadata": {
        "id": "QDrizkNwnt9N"
      },
      "source": [
        "#### 99. Given an integer n and a 2D array X, select from X the rows which can be interpreted as draws from a multinomial distribution with n degrees, i.e., the rows which only contain integers and which sum to n. (★★★) \n",
        "(**hint**: np.logical\\_and.reduce, np.mod)"
      ]
    },
    {
      "cell_type": "code",
      "execution_count": null,
      "metadata": {
        "id": "q12w5VZRnt9N",
        "colab": {
          "base_uri": "https://localhost:8080/"
        },
        "outputId": "6267ba38-4f94-434b-bf32-7b46df6314ae"
      },
      "outputs": [
        {
          "output_type": "stream",
          "name": "stdout",
          "text": [
            "[[2. 0. 1. 1.]]\n"
          ]
        }
      ],
      "source": [
        "X = np.asarray([[1.0, 0.0, 3.0, 8.0],\n",
        "                [2.0, 0.0, 1.0, 1.0],\n",
        "                [1.5, 2.5, 1.0, 0.0]])\n",
        "n = 4\n",
        "M = np.logical_and.reduce(np.mod(X, 1) == 0, axis=-1)\n",
        "M &= (X.sum(axis=-1) == n)\n",
        "print(X[M])"
      ]
    },
    {
      "cell_type": "markdown",
      "metadata": {
        "id": "le-OmEElnt9N"
      },
      "source": [
        "#### 100. Compute bootstrapped 95% confidence intervals for the mean of a 1D array X (i.e., resample the elements of an array with replacement N times, compute the mean of each sample, and then compute percentiles over the means). (★★★) \n",
        "(**hint**: np.percentile)"
      ]
    },
    {
      "cell_type": "code",
      "execution_count": null,
      "metadata": {
        "id": "utPKIGYfnt9N",
        "colab": {
          "base_uri": "https://localhost:8080/"
        },
        "outputId": "40429deb-d36e-40cf-b83d-34e8aa4f4d65"
      },
      "outputs": [
        {
          "output_type": "stream",
          "name": "stdout",
          "text": [
            "[-0.06822648  0.32291949]\n"
          ]
        }
      ],
      "source": [
        "\n",
        "X = np.random.randn(100) \n",
        "N = 1000 \n",
        "idx = np.random.randint(0, X.size, (N, X.size))\n",
        "means = X[idx].mean(axis=1)\n",
        "confint = np.percentile(means, [2.5, 97.5])\n",
        "print(confint)"
      ]
    },
    {
      "cell_type": "code",
      "source": [],
      "metadata": {
        "id": "KQmK_sQ-SLL9"
      },
      "execution_count": null,
      "outputs": []
    }
  ],
  "metadata": {
    "kernelspec": {
      "display_name": "Python 3",
      "language": "python",
      "name": "python3"
    },
    "language_info": {
      "codemirror_mode": {
        "name": "ipython",
        "version": 3
      },
      "file_extension": ".py",
      "mimetype": "text/x-python",
      "name": "python",
      "nbconvert_exporter": "python",
      "pygments_lexer": "ipython3",
      "version": "3.8.3"
    },
    "colab": {
      "provenance": [],
      "include_colab_link": true
    }
  },
  "nbformat": 4,
  "nbformat_minor": 0
}